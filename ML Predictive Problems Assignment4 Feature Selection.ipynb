{
 "cells": [
  {
   "cell_type": "markdown",
   "metadata": {},
   "source": [
    "# Excersice 4\n",
    "\n",
    "Feature selection:\n",
    "\n",
    "1. You need to load the UCI Arrhythmia dataset\n",
    "https://archive.ics.uci.edu/ml/datasets/arrhythmia\n",
    "* the problem is a multi-class classification\n",
    "\n",
    "2. For comparing the result you need to use kNN (k=3), and compare based on the accuracy with the original dataset (with the all features).\n",
    "\n",
    "2. Run three different types of feature selection methods (Univariate Statistics, model based, and Iterative Feature Selection).\n",
    "* The original data set has 279 features.\n",
    "* You need to run the methods for number_of_features= 20, 50, 100, 150, 200\n",
    "* All the results should show in the same figure (At the end we have just one figure)"
   ]
  },
  {
   "cell_type": "code",
   "execution_count": 1,
   "metadata": {},
   "outputs": [
    {
     "data": {
      "text/plain": [
       "0        int64\n",
       "1        int64\n",
       "2        int64\n",
       "3        int64\n",
       "4        int64\n",
       "        ...   \n",
       "275    float64\n",
       "276    float64\n",
       "277    float64\n",
       "278    float64\n",
       "279      int64\n",
       "Length: 280, dtype: object"
      ]
     },
     "execution_count": 1,
     "metadata": {},
     "output_type": "execute_result"
    }
   ],
   "source": [
    "import pandas as pd\n",
    "import numpy as np\n",
    "# Put the dataset into a dataframe\n",
    "arrhythmia_data =  pd.read_csv(\"https://archive.ics.uci.edu/ml/machine-learning-databases/arrhythmia/arrhythmia.data\", header=None)\n",
    "# dtypes for our columns\n",
    "arrhythmia_data.dtypes"
   ]
  },
  {
   "cell_type": "code",
   "execution_count": 2,
   "metadata": {},
   "outputs": [
    {
     "data": {
      "text/html": [
       "<div>\n",
       "<style scoped>\n",
       "    .dataframe tbody tr th:only-of-type {\n",
       "        vertical-align: middle;\n",
       "    }\n",
       "\n",
       "    .dataframe tbody tr th {\n",
       "        vertical-align: top;\n",
       "    }\n",
       "\n",
       "    .dataframe thead th {\n",
       "        text-align: right;\n",
       "    }\n",
       "</style>\n",
       "<table border=\"1\" class=\"dataframe\">\n",
       "  <thead>\n",
       "    <tr style=\"text-align: right;\">\n",
       "      <th></th>\n",
       "      <th>count</th>\n",
       "      <th>mean</th>\n",
       "      <th>std</th>\n",
       "      <th>min</th>\n",
       "      <th>25%</th>\n",
       "      <th>50%</th>\n",
       "      <th>75%</th>\n",
       "      <th>max</th>\n",
       "    </tr>\n",
       "  </thead>\n",
       "  <tbody>\n",
       "    <tr>\n",
       "      <th>0</th>\n",
       "      <td>452.0</td>\n",
       "      <td>46.471239</td>\n",
       "      <td>16.466631</td>\n",
       "      <td>0.0</td>\n",
       "      <td>36.00</td>\n",
       "      <td>47.00</td>\n",
       "      <td>58.000</td>\n",
       "      <td>83.0</td>\n",
       "    </tr>\n",
       "    <tr>\n",
       "      <th>1</th>\n",
       "      <td>452.0</td>\n",
       "      <td>0.550885</td>\n",
       "      <td>0.497955</td>\n",
       "      <td>0.0</td>\n",
       "      <td>0.00</td>\n",
       "      <td>1.00</td>\n",
       "      <td>1.000</td>\n",
       "      <td>1.0</td>\n",
       "    </tr>\n",
       "    <tr>\n",
       "      <th>2</th>\n",
       "      <td>452.0</td>\n",
       "      <td>166.188053</td>\n",
       "      <td>37.170340</td>\n",
       "      <td>105.0</td>\n",
       "      <td>160.00</td>\n",
       "      <td>164.00</td>\n",
       "      <td>170.000</td>\n",
       "      <td>780.0</td>\n",
       "    </tr>\n",
       "    <tr>\n",
       "      <th>3</th>\n",
       "      <td>452.0</td>\n",
       "      <td>68.170354</td>\n",
       "      <td>16.590803</td>\n",
       "      <td>6.0</td>\n",
       "      <td>59.00</td>\n",
       "      <td>68.00</td>\n",
       "      <td>79.000</td>\n",
       "      <td>176.0</td>\n",
       "    </tr>\n",
       "    <tr>\n",
       "      <th>4</th>\n",
       "      <td>452.0</td>\n",
       "      <td>88.920354</td>\n",
       "      <td>15.364394</td>\n",
       "      <td>55.0</td>\n",
       "      <td>80.00</td>\n",
       "      <td>86.00</td>\n",
       "      <td>94.000</td>\n",
       "      <td>188.0</td>\n",
       "    </tr>\n",
       "    <tr>\n",
       "      <th>...</th>\n",
       "      <td>...</td>\n",
       "      <td>...</td>\n",
       "      <td>...</td>\n",
       "      <td>...</td>\n",
       "      <td>...</td>\n",
       "      <td>...</td>\n",
       "      <td>...</td>\n",
       "      <td>...</td>\n",
       "    </tr>\n",
       "    <tr>\n",
       "      <th>275</th>\n",
       "      <td>452.0</td>\n",
       "      <td>0.514823</td>\n",
       "      <td>0.347531</td>\n",
       "      <td>-0.8</td>\n",
       "      <td>0.40</td>\n",
       "      <td>0.50</td>\n",
       "      <td>0.700</td>\n",
       "      <td>2.4</td>\n",
       "    </tr>\n",
       "    <tr>\n",
       "      <th>276</th>\n",
       "      <td>452.0</td>\n",
       "      <td>1.222345</td>\n",
       "      <td>1.426052</td>\n",
       "      <td>-6.0</td>\n",
       "      <td>0.50</td>\n",
       "      <td>1.35</td>\n",
       "      <td>2.100</td>\n",
       "      <td>6.0</td>\n",
       "    </tr>\n",
       "    <tr>\n",
       "      <th>277</th>\n",
       "      <td>452.0</td>\n",
       "      <td>19.326106</td>\n",
       "      <td>13.503922</td>\n",
       "      <td>-44.2</td>\n",
       "      <td>11.45</td>\n",
       "      <td>18.10</td>\n",
       "      <td>25.825</td>\n",
       "      <td>88.8</td>\n",
       "    </tr>\n",
       "    <tr>\n",
       "      <th>278</th>\n",
       "      <td>452.0</td>\n",
       "      <td>29.473230</td>\n",
       "      <td>18.493927</td>\n",
       "      <td>-38.6</td>\n",
       "      <td>17.55</td>\n",
       "      <td>27.90</td>\n",
       "      <td>41.125</td>\n",
       "      <td>115.9</td>\n",
       "    </tr>\n",
       "    <tr>\n",
       "      <th>279</th>\n",
       "      <td>452.0</td>\n",
       "      <td>3.880531</td>\n",
       "      <td>4.407097</td>\n",
       "      <td>1.0</td>\n",
       "      <td>1.00</td>\n",
       "      <td>1.00</td>\n",
       "      <td>6.000</td>\n",
       "      <td>16.0</td>\n",
       "    </tr>\n",
       "  </tbody>\n",
       "</table>\n",
       "<p>275 rows × 8 columns</p>\n",
       "</div>"
      ],
      "text/plain": [
       "     count        mean        std    min     25%     50%      75%    max\n",
       "0    452.0   46.471239  16.466631    0.0   36.00   47.00   58.000   83.0\n",
       "1    452.0    0.550885   0.497955    0.0    0.00    1.00    1.000    1.0\n",
       "2    452.0  166.188053  37.170340  105.0  160.00  164.00  170.000  780.0\n",
       "3    452.0   68.170354  16.590803    6.0   59.00   68.00   79.000  176.0\n",
       "4    452.0   88.920354  15.364394   55.0   80.00   86.00   94.000  188.0\n",
       "..     ...         ...        ...    ...     ...     ...      ...    ...\n",
       "275  452.0    0.514823   0.347531   -0.8    0.40    0.50    0.700    2.4\n",
       "276  452.0    1.222345   1.426052   -6.0    0.50    1.35    2.100    6.0\n",
       "277  452.0   19.326106  13.503922  -44.2   11.45   18.10   25.825   88.8\n",
       "278  452.0   29.473230  18.493927  -38.6   17.55   27.90   41.125  115.9\n",
       "279  452.0    3.880531   4.407097    1.0    1.00    1.00    6.000   16.0\n",
       "\n",
       "[275 rows x 8 columns]"
      ]
     },
     "execution_count": 2,
     "metadata": {},
     "output_type": "execute_result"
    }
   ],
   "source": [
    "# Descriptive statistics of the DataFrame\n",
    "arrhythmia_data.describe().transpose()"
   ]
  },
  {
   "cell_type": "markdown",
   "metadata": {},
   "source": [
    "We can see that 275 columns were printed, but we have 280 columns (279 features plus the label). There is an issue with 5 columns."
   ]
  },
  {
   "cell_type": "code",
   "execution_count": 4,
   "metadata": {},
   "outputs": [
    {
     "data": {
      "text/plain": [
       "[]"
      ]
     },
     "execution_count": 4,
     "metadata": {},
     "output_type": "execute_result"
    }
   ],
   "source": [
    "# check to see if there are any columns with missing values \n",
    "arrhythmia_data.columns[arrhythmia_data.isnull().any()].tolist()"
   ]
  },
  {
   "cell_type": "code",
   "execution_count": 5,
   "metadata": {},
   "outputs": [
    {
     "data": {
      "text/html": [
       "<div>\n",
       "<style scoped>\n",
       "    .dataframe tbody tr th:only-of-type {\n",
       "        vertical-align: middle;\n",
       "    }\n",
       "\n",
       "    .dataframe tbody tr th {\n",
       "        vertical-align: top;\n",
       "    }\n",
       "\n",
       "    .dataframe thead th {\n",
       "        text-align: right;\n",
       "    }\n",
       "</style>\n",
       "<table border=\"1\" class=\"dataframe\">\n",
       "  <thead>\n",
       "    <tr style=\"text-align: right;\">\n",
       "      <th></th>\n",
       "      <th>10</th>\n",
       "      <th>11</th>\n",
       "      <th>12</th>\n",
       "      <th>13</th>\n",
       "      <th>14</th>\n",
       "    </tr>\n",
       "  </thead>\n",
       "  <tbody>\n",
       "    <tr>\n",
       "      <th>0</th>\n",
       "      <td>13</td>\n",
       "      <td>64</td>\n",
       "      <td>-2</td>\n",
       "      <td>?</td>\n",
       "      <td>63</td>\n",
       "    </tr>\n",
       "    <tr>\n",
       "      <th>1</th>\n",
       "      <td>37</td>\n",
       "      <td>-17</td>\n",
       "      <td>31</td>\n",
       "      <td>?</td>\n",
       "      <td>53</td>\n",
       "    </tr>\n",
       "    <tr>\n",
       "      <th>2</th>\n",
       "      <td>34</td>\n",
       "      <td>70</td>\n",
       "      <td>66</td>\n",
       "      <td>23</td>\n",
       "      <td>75</td>\n",
       "    </tr>\n",
       "    <tr>\n",
       "      <th>3</th>\n",
       "      <td>11</td>\n",
       "      <td>-5</td>\n",
       "      <td>20</td>\n",
       "      <td>?</td>\n",
       "      <td>71</td>\n",
       "    </tr>\n",
       "    <tr>\n",
       "      <th>4</th>\n",
       "      <td>13</td>\n",
       "      <td>61</td>\n",
       "      <td>3</td>\n",
       "      <td>?</td>\n",
       "      <td>?</td>\n",
       "    </tr>\n",
       "    <tr>\n",
       "      <th>...</th>\n",
       "      <td>...</td>\n",
       "      <td>...</td>\n",
       "      <td>...</td>\n",
       "      <td>...</td>\n",
       "      <td>...</td>\n",
       "    </tr>\n",
       "    <tr>\n",
       "      <th>447</th>\n",
       "      <td>4</td>\n",
       "      <td>40</td>\n",
       "      <td>-27</td>\n",
       "      <td>?</td>\n",
       "      <td>63</td>\n",
       "    </tr>\n",
       "    <tr>\n",
       "      <th>448</th>\n",
       "      <td>66</td>\n",
       "      <td>52</td>\n",
       "      <td>79</td>\n",
       "      <td>?</td>\n",
       "      <td>73</td>\n",
       "    </tr>\n",
       "    <tr>\n",
       "      <th>449</th>\n",
       "      <td>-19</td>\n",
       "      <td>-61</td>\n",
       "      <td>-70</td>\n",
       "      <td>84</td>\n",
       "      <td>84</td>\n",
       "    </tr>\n",
       "    <tr>\n",
       "      <th>450</th>\n",
       "      <td>29</td>\n",
       "      <td>-22</td>\n",
       "      <td>43</td>\n",
       "      <td>103</td>\n",
       "      <td>80</td>\n",
       "    </tr>\n",
       "    <tr>\n",
       "      <th>451</th>\n",
       "      <td>79</td>\n",
       "      <td>52</td>\n",
       "      <td>47</td>\n",
       "      <td>?</td>\n",
       "      <td>75</td>\n",
       "    </tr>\n",
       "  </tbody>\n",
       "</table>\n",
       "<p>452 rows × 5 columns</p>\n",
       "</div>"
      ],
      "text/plain": [
       "      10   11   12   13  14\n",
       "0     13   64   -2    ?  63\n",
       "1     37  -17   31    ?  53\n",
       "2     34   70   66   23  75\n",
       "3     11   -5   20    ?  71\n",
       "4     13   61    3    ?   ?\n",
       "..   ...  ...  ...  ...  ..\n",
       "447    4   40  -27    ?  63\n",
       "448   66   52   79    ?  73\n",
       "449  -19  -61  -70   84  84\n",
       "450   29  -22   43  103  80\n",
       "451   79   52   47    ?  75\n",
       "\n",
       "[452 rows x 5 columns]"
      ]
     },
     "execution_count": 5,
     "metadata": {},
     "output_type": "execute_result"
    }
   ],
   "source": [
    "# Check to see whether any column is an object.\n",
    "arrhythmia_data.loc[:, arrhythmia_data.dtypes == object]"
   ]
  },
  {
   "cell_type": "code",
   "execution_count": 6,
   "metadata": {},
   "outputs": [
    {
     "name": "stdout",
     "output_type": "stream",
     "text": [
      "Count the occurence of ? per column:\n",
      "Column 10 has 8 '?' occurence(s).\n",
      "Column 11 has 22 '?' occurence(s).\n",
      "Column 12 has 1 '?' occurence(s).\n",
      "Column 13 has 376 '?' occurence(s).\n",
      "Column 14 has 1 '?' occurence(s).\n"
     ]
    }
   ],
   "source": [
    "question_columns = arrhythmia_data.loc[:, arrhythmia_data.dtypes == object].columns\n",
    "print(\"Count the occurence of ? per column:\")\n",
    "for col in question_columns:\n",
    "    print(\"Column {:.0f} has {:.0f} '?' occurence(s).\".format(col, arrhythmia_data[col].str.contains(r'[?]').sum()))\n"
   ]
  },
  {
   "cell_type": "markdown",
   "metadata": {},
   "source": [
    "There are five columns that contain missing values. One column has missing variables above 50%. The rest 4 columns have lower amounts of missing values."
   ]
  },
  {
   "cell_type": "code",
   "execution_count": 8,
   "metadata": {},
   "outputs": [
    {
     "data": {
      "text/plain": [
       "(452, 280)"
      ]
     },
     "execution_count": 8,
     "metadata": {},
     "output_type": "execute_result"
    }
   ],
   "source": [
    "#switch ? for NaN for easier handling\n",
    "arrhythmia_data[arrhythmia_data=='?'] = np.NaN\n",
    "#drop columns with more than 50% NaN\n",
    "arrhythmia_data[13] = arrhythmia_data[13].notnull().astype('int')\n",
    "arrhythmia_data = arrhythmia_data.astype(float)\n",
    "column_means = arrhythmia_data.mean(skipna=True)\n",
    "arrhythmia_data = arrhythmia_data.fillna(column_means)\n",
    "arrhythmia_data.shape"
   ]
  },
  {
   "cell_type": "code",
   "execution_count": 9,
   "metadata": {},
   "outputs": [
    {
     "data": {
      "text/plain": [
       "(452, 279)"
      ]
     },
     "execution_count": 9,
     "metadata": {},
     "output_type": "execute_result"
    }
   ],
   "source": [
    "X = arrhythmia_data.iloc[:,:-1]\n",
    "y = arrhythmia_data.iloc[:,-1].astype(int)\n",
    "X.shape"
   ]
  },
  {
   "cell_type": "code",
   "execution_count": 10,
   "metadata": {},
   "outputs": [
    {
     "name": "stdout",
     "output_type": "stream",
     "text": [
      "Training set score: 0.687\n",
      "Test set score: 0.593\n"
     ]
    }
   ],
   "source": [
    "from sklearn.neighbors import KNeighborsClassifier\n",
    "from sklearn.model_selection import train_test_split\n",
    "from sklearn.preprocessing import StandardScaler\n",
    "\n",
    "\n",
    "# Our benchmark model\n",
    "X_train, X_test, y_train, y_test = train_test_split(X, y, random_state=21)\n",
    "# scale the dataset to have mean equal to 0 and std equal to 1\n",
    "scaler = StandardScaler()\n",
    "scaler.fit(X_train)\n",
    "\n",
    "X_train_scaled = scaler.transform(X_train)\n",
    "X_test_scaled = scaler.transform(X_test)\n",
    "KNN = KNeighborsClassifier(n_neighbors=3)\n",
    "KNN.fit(X_train_scaled, y_train)\n",
    "print(\"Training set score: {:.3f}\".format(KNN.score(X_train_scaled, y_train)))\n",
    "print(\"Test set score: {:.3f}\".format(KNN.score(X_test_scaled, y_test)))"
   ]
  },
  {
   "cell_type": "code",
   "execution_count": 12,
   "metadata": {},
   "outputs": [],
   "source": [
    "# Utility function to report best scores\n",
    "\n",
    "def get_best_score(results, n_top=5):\n",
    "    for i in range(1, n_top + 1):\n",
    "        candidates = np.flatnonzero(results['rank_test_score'] == i)\n",
    "        for candidate in candidates:\n",
    "            print(\"Model with rank: {0}\".format(i))\n",
    "            print(\"Mean validation score: {0:.3f} (std: {1:.3f})\"\n",
    "                  .format(results['mean_test_score'][candidate],\n",
    "                          results['std_test_score'][candidate]))\n",
    "            print(\"Parameters: {0}\".format(results['params'][candidate]))\n",
    "            print(\"\")"
   ]
  },
  {
   "cell_type": "code",
   "execution_count": 14,
   "metadata": {},
   "outputs": [
    {
     "name": "stderr",
     "output_type": "stream",
     "text": [
      "/opt/conda/lib/python3.7/site-packages/sklearn/model_selection/_split.py:667: UserWarning: The least populated class in y has only 1 members, which is less than n_splits=5.\n",
      "  % (min_groups, self.n_splits)), UserWarning)\n"
     ]
    },
    {
     "name": "stdout",
     "output_type": "stream",
     "text": [
      "Model with rank: 1\n",
      "Mean validation score: 0.655 (std: 0.088)\n",
      "Parameters: {'feature_selection': SelectFromModel(estimator=RandomForestClassifier(bootstrap=True, ccp_alpha=0.0,\n",
      "                                                 class_weight=None,\n",
      "                                                 criterion='gini',\n",
      "                                                 max_depth=None,\n",
      "                                                 max_features='auto',\n",
      "                                                 max_leaf_nodes=None,\n",
      "                                                 max_samples=None,\n",
      "                                                 min_impurity_decrease=0.0,\n",
      "                                                 min_impurity_split=None,\n",
      "                                                 min_samples_leaf=1,\n",
      "                                                 min_samples_split=2,\n",
      "                                                 min_weight_fraction_leaf=0.0,\n",
      "                                                 n_estimators=100, n_jobs=None,\n",
      "                                                 oob_score=False,\n",
      "                                                 random_state=22, verbose=0,\n",
      "                                                 warm_start=False),\n",
      "                max_features=10, norm_order=1, prefit=False, threshold=-inf), 'feature_selection__max_features': 10}\n",
      "\n",
      "Model with rank: 2\n",
      "Mean validation score: 0.646 (std: 0.046)\n",
      "Parameters: {'feature_selection': SelectFromModel(estimator=RandomForestClassifier(bootstrap=True, ccp_alpha=0.0,\n",
      "                                                 class_weight=None,\n",
      "                                                 criterion='gini',\n",
      "                                                 max_depth=None,\n",
      "                                                 max_features='auto',\n",
      "                                                 max_leaf_nodes=None,\n",
      "                                                 max_samples=None,\n",
      "                                                 min_impurity_decrease=0.0,\n",
      "                                                 min_impurity_split=None,\n",
      "                                                 min_samples_leaf=1,\n",
      "                                                 min_samples_split=2,\n",
      "                                                 min_weight_fraction_leaf=0.0,\n",
      "                                                 n_estimators=100, n_jobs=None,\n",
      "                                                 oob_score=False,\n",
      "                                                 random_state=22, verbose=0,\n",
      "                                                 warm_start=False),\n",
      "                max_features=10, norm_order=1, prefit=False, threshold=-inf), 'feature_selection__max_features': 20}\n",
      "\n",
      "Model with rank: 3\n",
      "Mean validation score: 0.638 (std: 0.099)\n",
      "Parameters: {'feature_selection': RFE(estimator=RandomForestClassifier(bootstrap=True, ccp_alpha=0.0,\n",
      "                                     class_weight=None, criterion='gini',\n",
      "                                     max_depth=None, max_features='auto',\n",
      "                                     max_leaf_nodes=None, max_samples=None,\n",
      "                                     min_impurity_decrease=0.0,\n",
      "                                     min_impurity_split=None,\n",
      "                                     min_samples_leaf=1, min_samples_split=2,\n",
      "                                     min_weight_fraction_leaf=0.0,\n",
      "                                     n_estimators=100, n_jobs=None,\n",
      "                                     oob_score=False, random_state=22,\n",
      "                                     verbose=0, warm_start=False),\n",
      "    n_features_to_select=None, step=1, verbose=0), 'feature_selection__n_features_to_select': 50}\n",
      "\n",
      "Model with rank: 4\n",
      "Mean validation score: 0.638 (std: 0.083)\n",
      "Parameters: {'feature_selection': SelectFromModel(estimator=RandomForestClassifier(bootstrap=True, ccp_alpha=0.0,\n",
      "                                                 class_weight=None,\n",
      "                                                 criterion='gini',\n",
      "                                                 max_depth=None,\n",
      "                                                 max_features='auto',\n",
      "                                                 max_leaf_nodes=None,\n",
      "                                                 max_samples=None,\n",
      "                                                 min_impurity_decrease=0.0,\n",
      "                                                 min_impurity_split=None,\n",
      "                                                 min_samples_leaf=1,\n",
      "                                                 min_samples_split=2,\n",
      "                                                 min_weight_fraction_leaf=0.0,\n",
      "                                                 n_estimators=100, n_jobs=None,\n",
      "                                                 oob_score=False,\n",
      "                                                 random_state=22, verbose=0,\n",
      "                                                 warm_start=False),\n",
      "                max_features=10, norm_order=1, prefit=False, threshold=-inf), 'feature_selection__max_features': 50}\n",
      "\n",
      "Model with rank: 5\n",
      "Mean validation score: 0.638 (std: 0.067)\n",
      "Parameters: {'feature_selection': RFE(estimator=RandomForestClassifier(bootstrap=True, ccp_alpha=0.0,\n",
      "                                     class_weight=None, criterion='gini',\n",
      "                                     max_depth=None, max_features='auto',\n",
      "                                     max_leaf_nodes=None, max_samples=None,\n",
      "                                     min_impurity_decrease=0.0,\n",
      "                                     min_impurity_split=None,\n",
      "                                     min_samples_leaf=1, min_samples_split=2,\n",
      "                                     min_weight_fraction_leaf=0.0,\n",
      "                                     n_estimators=100, n_jobs=None,\n",
      "                                     oob_score=False, random_state=22,\n",
      "                                     verbose=0, warm_start=False),\n",
      "    n_features_to_select=None, step=1, verbose=0), 'feature_selection__n_features_to_select': 10}\n",
      "\n"
     ]
    }
   ],
   "source": [
    "from sklearn.feature_selection import SelectKBest, SelectFromModel, RFE\n",
    "from sklearn.pipeline import Pipeline\n",
    "from sklearn.model_selection import GridSearchCV\n",
    "from sklearn.ensemble import RandomForestClassifier\n",
    "from sklearn.linear_model import LogisticRegression\n",
    "from time import time\n",
    "import warnings\n",
    "#warnings.filterwarnings(\"ignore\")\n",
    "warnings.resetwarnings()\n",
    "pipe = Pipeline([\n",
    "  ('scaler', StandardScaler()),\n",
    "  ('feature_selection', SelectKBest()),\n",
    "  ('classification', KNeighborsClassifier(n_neighbors=3))\n",
    "])\n",
    "\n",
    "# specify parameters and distributions to sample from\n",
    "param_grid = [\n",
    "     {'classification': [KNeighborsClassifier(n_neighbors=3,n_jobs=-1)]},\n",
    "    \n",
    "     {'feature_selection': [SelectKBest()],\n",
    "     'feature_selection__k':[10, 20, 50, 100, 200]},\n",
    "\n",
    "     {'feature_selection': [SelectFromModel(RandomForestClassifier(random_state=22), threshold=-np.inf)],\n",
    "     'feature_selection__max_features':[10, 20, 50, 100, 200]},\n",
    "    \n",
    "     {'feature_selection': [RFE(RandomForestClassifier(random_state=22))],\n",
    "     'feature_selection__n_features_to_select':[10, 20, 50, 100, 200]}\n",
    "\n",
    "]\n",
    "\n",
    "# run grid search \n",
    "grid_search = GridSearchCV(pipe, param_grid, n_jobs = -1)\n",
    "\n",
    "start = time()\n",
    "grid_search.fit(X_test, y_test)\n",
    "get_best_score(grid_search.cv_results_)\n",
    "stop = time()"
   ]
  },
  {
   "cell_type": "code",
   "execution_count": 16,
   "metadata": {},
   "outputs": [
    {
     "name": "stdout",
     "output_type": "stream",
     "text": [
      "gridSearchCV took 147.01 seconds\n"
     ]
    },
    {
     "data": {
      "text/plain": [
       "<matplotlib.collections.PolyCollection at 0x7fa24fb26f50>"
      ]
     },
     "execution_count": 16,
     "metadata": {},
     "output_type": "execute_result"
    },
    {
     "data": {
      "image/png": "[encoded data removed]",
      "text/plain": [
       "<Figure size 432x288 with 1 Axes>"
      ]
     },
     "metadata": {
      "needs_background": "light"
     },
     "output_type": "display_data"
    }
   ],
   "source": [
    "print(\"gridSearchCV took %.2f seconds\" % ((stop - start)))\n",
    "import mglearn\n",
    "selection_method = [\"SelectKBest\", \"SelectFromModel\", \"RFE\", \"Benchmark\"]\n",
    "method = [20, 50, 100, 150, 200, \"all\"]\n",
    "results = pd.DataFrame(grid_search.cv_results_)\n",
    "scores = np.array(results.iloc[-15:].mean_test_score).reshape(3,5)\n",
    "# some manipulation to add benchmark score to the same array\n",
    "column_to_be_added = np.array([np.NaN, np.NaN, np.NaN, np.NaN, np.NaN, results.mean_test_score[0]])\n",
    "final = np.empty((3,6))\n",
    "final[:] = np.NaN\n",
    "final[:,:-1] = scores\n",
    "# Adding benchmark row to numpy array\n",
    "scores = np.vstack([final, column_to_be_added])\n",
    "# plot the mean cross-validation scores\n",
    "mglearn.tools.heatmap(scores, xlabel='n_features', xticklabels=method,\n",
    "ylabel='method', yticklabels=selection_method, cmap=\"viridis\")"
   ]
  },
  {
   "cell_type": "markdown",
   "metadata": {},
   "source": [
    "The score with no feature selection method (Benchmark) is 0.57. We can see in the heatmap above that all feature selection methods manage to increase the accuracy of the model for most of n_features. The best feature selection method for this problem though, seems to be the SelectFromModel method with 20 features, a model based method with a GridsearchCV score equal to 0.66."
   ]
  },
  {
   "cell_type": "code",
   "execution_count": 17,
   "metadata": {
    "scrolled": true
   },
   "outputs": [
    {
     "name": "stdout",
     "output_type": "stream",
     "text": [
      "Train set score: 0.75\n",
      "Test set score: 0.68\n"
     ]
    }
   ],
   "source": [
    "#We retrain the highest performing model from GridSearchCV with the whole train dataset and examine the score result in test set\n",
    "best_model = grid_search.best_estimator_.fit(X_train,y_train)\n",
    "print(\"Train set score: {:.2f}\".format(best_model.score(X_train, y_train)))\n",
    "print(\"Test set score: {:.2f}\".format(best_model.score(X_test, y_test)))"
   ]
  },
  {
   "cell_type": "code",
   "execution_count": 18,
   "metadata": {},
   "outputs": [
    {
     "data": {
      "text/plain": [
       "Pipeline(memory=None,\n",
       "         steps=[('scaler',\n",
       "                 StandardScaler(copy=True, with_mean=True, with_std=True)),\n",
       "                ('feature_selection',\n",
       "                 SelectFromModel(estimator=RandomForestClassifier(bootstrap=True,\n",
       "                                                                  ccp_alpha=0.0,\n",
       "                                                                  class_weight=None,\n",
       "                                                                  criterion='gini',\n",
       "                                                                  max_depth=None,\n",
       "                                                                  max_features='auto',\n",
       "                                                                  max_leaf_nodes=None,\n",
       "                                                                  max_samples=None,\n",
       "                                                                  min_impurity_decrease=0.0,\n",
       "                                                                  min_impurity_split=None,...\n",
       "                                                                  min_samples_split=2,\n",
       "                                                                  min_weight_fraction_leaf=0.0,\n",
       "                                                                  n_estimators=100,\n",
       "                                                                  n_jobs=None,\n",
       "                                                                  oob_score=False,\n",
       "                                                                  random_state=22,\n",
       "                                                                  verbose=0,\n",
       "                                                                  warm_start=False),\n",
       "                                 max_features=10, norm_order=1, prefit=False,\n",
       "                                 threshold=-inf)),\n",
       "                ('classification',\n",
       "                 KNeighborsClassifier(algorithm='auto', leaf_size=30,\n",
       "                                      metric='minkowski', metric_params=None,\n",
       "                                      n_jobs=None, n_neighbors=3, p=2,\n",
       "                                      weights='uniform'))],\n",
       "         verbose=False)"
      ]
     },
     "execution_count": 18,
     "metadata": {},
     "output_type": "execute_result"
    }
   ],
   "source": [
    "grid_search.best_estimator_"
   ]
  },
  {
   "cell_type": "code",
   "execution_count": 19,
   "metadata": {},
   "outputs": [
    {
     "name": "stdout",
     "output_type": "stream",
     "text": [
      "Train set score: 0.79\n",
      "Test set score: 0.65\n"
     ]
    }
   ],
   "source": [
    "# just a test to make sure that scaling in the pipeline for the test sample was done correctly\n",
    "scaler = StandardScaler()\n",
    "scaler.fit(X_train)\n",
    "\n",
    "X_train_scaled = scaler.transform(X_train)\n",
    "X_test_scaled = scaler.transform(X_test)\n",
    "\n",
    "pipetest = Pipeline(steps=[('feature_selection', SelectFromModel(estimator=RandomForestClassifier(random_state=22),\n",
    "                                 max_features=20, threshold=-np.inf)),\n",
    "                ('classification', KNeighborsClassifier(n_neighbors=3))])\n",
    "\n",
    "pipetest.fit(X_train_scaled,y_train)\n",
    "print(\"Train set score: {:.2f}\".format(pipetest.score(X_train_scaled, y_train)))\n",
    "print(\"Test set score: {:.2f}\".format(pipetest.score(X_test_scaled, y_test)))\n"
   ]
  },
  {
   "cell_type": "markdown",
   "metadata": {},
   "source": [
    "Without using any featureselection method we had scores equal to:\n",
    "Training set score: 0.687\n",
    "Test set score: 0.593\n",
    "\n",
    "After creating a pipeline with GridSearchCV and testing 3 feature selection methods for different number of features, we selected the SelectFromModel with 20 features as the best one. The score of the model increased, both in the training set, as well as in the test set. We conclude that the feature selection method had a positive result in the performance of our model in this problem."
   ]
  }
 ],
 "metadata": {
  "kernelspec": {
   "display_name": "Python 3",
   "language": "python",
   "name": "python3"
  },
  "language_info": {
   "codemirror_mode": {
    "name": "ipython",
    "version": 3
   },
   "file_extension": ".py",
   "mimetype": "text/x-python",
   "name": "python",
   "nbconvert_exporter": "python",
   "pygments_lexer": "ipython3",
   "version": "3.7.6"
  }
 },
 "nbformat": 4,
 "nbformat_minor": 4
}
