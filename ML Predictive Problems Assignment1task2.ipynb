{
 "cells": [
  {
   "cell_type": "code",
   "execution_count": 1,
   "metadata": {},
   "outputs": [
    {
     "name": "stdout",
     "output_type": "stream",
     "text": [
      "Requirement already satisfied: xlrd in /home/jovyan/.local/lib/python3.7/site-packages (2.0.1)\r\n"
     ]
    }
   ],
   "source": [
    "%matplotlib inline\n",
    "import pandas as pd\n",
    "import matplotlib\n",
    "import matplotlib.pyplot as plt\n",
    "import numpy as np\n",
    "from sklearn.model_selection import train_test_split\n",
    "\n",
    "! pip install xlrd --user"
   ]
  },
  {
   "cell_type": "code",
   "execution_count": 57,
   "metadata": {},
   "outputs": [],
   "source": [
    "#df = pd.read_excel('/home/jovyan/work/datasets/default of credit card clients.xls',header=None)\n",
    "df = pd.read_excel('https://archive.ics.uci.edu/ml/machine-learning-databases/00350/default%20of%20credit%20card%20clients.xls',header=None)\n",
    "col_names = [\"ID\", \"LIMIT_BAL\", \"SEX\", \"EDUCATION\", \"MARRIAGE\", \"AGE\", \"PAY0\", \"PAY2\", \"PAY3\", \"PAY4\", \"PAY5\", \"PAY6\", \"BILL_AMT1\", \"BILL_AMT2\", \"BILL_AMT3\", \"BILL_AMT4\", \"BILL_AMT5\", \"BILL_AMT6\", \"PAY_AMT1\", \"PAY_AMT2\", \"PAY_AMT3\", \"PAY_AMT4\", \"PAY_AMT5\", \"PAY_AMT6\", \"DEF_PAY_NE_MNTH\"]\n",
    "df.columns = col_names\n"
   ]
  },
  {
   "cell_type": "code",
   "execution_count": 59,
   "metadata": {},
   "outputs": [],
   "source": [
    "df=df.drop([0, 1])"
   ]
  },
  {
   "cell_type": "code",
   "execution_count": 60,
   "metadata": {},
   "outputs": [
    {
     "data": {
      "text/html": [
       "<div>\n",
       "<style scoped>\n",
       "    .dataframe tbody tr th:only-of-type {\n",
       "        vertical-align: middle;\n",
       "    }\n",
       "\n",
       "    .dataframe tbody tr th {\n",
       "        vertical-align: top;\n",
       "    }\n",
       "\n",
       "    .dataframe thead th {\n",
       "        text-align: right;\n",
       "    }\n",
       "</style>\n",
       "<table border=\"1\" class=\"dataframe\">\n",
       "  <thead>\n",
       "    <tr style=\"text-align: right;\">\n",
       "      <th></th>\n",
       "      <th>ID</th>\n",
       "      <th>LIMIT_BAL</th>\n",
       "      <th>SEX</th>\n",
       "      <th>EDUCATION</th>\n",
       "      <th>MARRIAGE</th>\n",
       "      <th>AGE</th>\n",
       "      <th>PAY0</th>\n",
       "      <th>PAY2</th>\n",
       "      <th>PAY3</th>\n",
       "      <th>PAY4</th>\n",
       "      <th>...</th>\n",
       "      <th>BILL_AMT4</th>\n",
       "      <th>BILL_AMT5</th>\n",
       "      <th>BILL_AMT6</th>\n",
       "      <th>PAY_AMT1</th>\n",
       "      <th>PAY_AMT2</th>\n",
       "      <th>PAY_AMT3</th>\n",
       "      <th>PAY_AMT4</th>\n",
       "      <th>PAY_AMT5</th>\n",
       "      <th>PAY_AMT6</th>\n",
       "      <th>DEF_PAY_NE_MNTH</th>\n",
       "    </tr>\n",
       "  </thead>\n",
       "  <tbody>\n",
       "    <tr>\n",
       "      <th>2</th>\n",
       "      <td>1</td>\n",
       "      <td>20000</td>\n",
       "      <td>2</td>\n",
       "      <td>2</td>\n",
       "      <td>1</td>\n",
       "      <td>24</td>\n",
       "      <td>2</td>\n",
       "      <td>2</td>\n",
       "      <td>-1</td>\n",
       "      <td>-1</td>\n",
       "      <td>...</td>\n",
       "      <td>0</td>\n",
       "      <td>0</td>\n",
       "      <td>0</td>\n",
       "      <td>0</td>\n",
       "      <td>689</td>\n",
       "      <td>0</td>\n",
       "      <td>0</td>\n",
       "      <td>0</td>\n",
       "      <td>0</td>\n",
       "      <td>1</td>\n",
       "    </tr>\n",
       "    <tr>\n",
       "      <th>3</th>\n",
       "      <td>2</td>\n",
       "      <td>120000</td>\n",
       "      <td>2</td>\n",
       "      <td>2</td>\n",
       "      <td>2</td>\n",
       "      <td>26</td>\n",
       "      <td>-1</td>\n",
       "      <td>2</td>\n",
       "      <td>0</td>\n",
       "      <td>0</td>\n",
       "      <td>...</td>\n",
       "      <td>3272</td>\n",
       "      <td>3455</td>\n",
       "      <td>3261</td>\n",
       "      <td>0</td>\n",
       "      <td>1000</td>\n",
       "      <td>1000</td>\n",
       "      <td>1000</td>\n",
       "      <td>0</td>\n",
       "      <td>2000</td>\n",
       "      <td>1</td>\n",
       "    </tr>\n",
       "    <tr>\n",
       "      <th>4</th>\n",
       "      <td>3</td>\n",
       "      <td>90000</td>\n",
       "      <td>2</td>\n",
       "      <td>2</td>\n",
       "      <td>2</td>\n",
       "      <td>34</td>\n",
       "      <td>0</td>\n",
       "      <td>0</td>\n",
       "      <td>0</td>\n",
       "      <td>0</td>\n",
       "      <td>...</td>\n",
       "      <td>14331</td>\n",
       "      <td>14948</td>\n",
       "      <td>15549</td>\n",
       "      <td>1518</td>\n",
       "      <td>1500</td>\n",
       "      <td>1000</td>\n",
       "      <td>1000</td>\n",
       "      <td>1000</td>\n",
       "      <td>5000</td>\n",
       "      <td>0</td>\n",
       "    </tr>\n",
       "    <tr>\n",
       "      <th>5</th>\n",
       "      <td>4</td>\n",
       "      <td>50000</td>\n",
       "      <td>2</td>\n",
       "      <td>2</td>\n",
       "      <td>1</td>\n",
       "      <td>37</td>\n",
       "      <td>0</td>\n",
       "      <td>0</td>\n",
       "      <td>0</td>\n",
       "      <td>0</td>\n",
       "      <td>...</td>\n",
       "      <td>28314</td>\n",
       "      <td>28959</td>\n",
       "      <td>29547</td>\n",
       "      <td>2000</td>\n",
       "      <td>2019</td>\n",
       "      <td>1200</td>\n",
       "      <td>1100</td>\n",
       "      <td>1069</td>\n",
       "      <td>1000</td>\n",
       "      <td>0</td>\n",
       "    </tr>\n",
       "    <tr>\n",
       "      <th>6</th>\n",
       "      <td>5</td>\n",
       "      <td>50000</td>\n",
       "      <td>1</td>\n",
       "      <td>2</td>\n",
       "      <td>1</td>\n",
       "      <td>57</td>\n",
       "      <td>-1</td>\n",
       "      <td>0</td>\n",
       "      <td>-1</td>\n",
       "      <td>0</td>\n",
       "      <td>...</td>\n",
       "      <td>20940</td>\n",
       "      <td>19146</td>\n",
       "      <td>19131</td>\n",
       "      <td>2000</td>\n",
       "      <td>36681</td>\n",
       "      <td>10000</td>\n",
       "      <td>9000</td>\n",
       "      <td>689</td>\n",
       "      <td>679</td>\n",
       "      <td>0</td>\n",
       "    </tr>\n",
       "  </tbody>\n",
       "</table>\n",
       "<p>5 rows × 25 columns</p>\n",
       "</div>"
      ],
      "text/plain": [
       "  ID LIMIT_BAL SEX EDUCATION MARRIAGE AGE PAY0 PAY2 PAY3 PAY4  ... BILL_AMT4  \\\n",
       "2  1     20000   2         2        1  24    2    2   -1   -1  ...         0   \n",
       "3  2    120000   2         2        2  26   -1    2    0    0  ...      3272   \n",
       "4  3     90000   2         2        2  34    0    0    0    0  ...     14331   \n",
       "5  4     50000   2         2        1  37    0    0    0    0  ...     28314   \n",
       "6  5     50000   1         2        1  57   -1    0   -1    0  ...     20940   \n",
       "\n",
       "  BILL_AMT5 BILL_AMT6 PAY_AMT1 PAY_AMT2 PAY_AMT3 PAY_AMT4 PAY_AMT5 PAY_AMT6  \\\n",
       "2         0         0        0      689        0        0        0        0   \n",
       "3      3455      3261        0     1000     1000     1000        0     2000   \n",
       "4     14948     15549     1518     1500     1000     1000     1000     5000   \n",
       "5     28959     29547     2000     2019     1200     1100     1069     1000   \n",
       "6     19146     19131     2000    36681    10000     9000      689      679   \n",
       "\n",
       "  DEF_PAY_NE_MNTH  \n",
       "2               1  \n",
       "3               1  \n",
       "4               0  \n",
       "5               0  \n",
       "6               0  \n",
       "\n",
       "[5 rows x 25 columns]"
      ]
     },
     "execution_count": 60,
     "metadata": {},
     "output_type": "execute_result"
    }
   ],
   "source": [
    "df.head()"
   ]
  },
  {
   "cell_type": "code",
   "execution_count": 61,
   "metadata": {},
   "outputs": [
    {
     "name": "stdout",
     "output_type": "stream",
     "text": [
      "<class 'pandas.core.frame.DataFrame'>\n",
      "Int64Index: 30000 entries, 2 to 30001\n",
      "Data columns (total 25 columns):\n",
      " #   Column           Non-Null Count  Dtype \n",
      "---  ------           --------------  ----- \n",
      " 0   ID               30000 non-null  object\n",
      " 1   LIMIT_BAL        30000 non-null  object\n",
      " 2   SEX              30000 non-null  object\n",
      " 3   EDUCATION        30000 non-null  object\n",
      " 4   MARRIAGE         30000 non-null  object\n",
      " 5   AGE              30000 non-null  object\n",
      " 6   PAY0             30000 non-null  object\n",
      " 7   PAY2             30000 non-null  object\n",
      " 8   PAY3             30000 non-null  object\n",
      " 9   PAY4             30000 non-null  object\n",
      " 10  PAY5             30000 non-null  object\n",
      " 11  PAY6             30000 non-null  object\n",
      " 12  BILL_AMT1        30000 non-null  object\n",
      " 13  BILL_AMT2        30000 non-null  object\n",
      " 14  BILL_AMT3        30000 non-null  object\n",
      " 15  BILL_AMT4        30000 non-null  object\n",
      " 16  BILL_AMT5        30000 non-null  object\n",
      " 17  BILL_AMT6        30000 non-null  object\n",
      " 18  PAY_AMT1         30000 non-null  object\n",
      " 19  PAY_AMT2         30000 non-null  object\n",
      " 20  PAY_AMT3         30000 non-null  object\n",
      " 21  PAY_AMT4         30000 non-null  object\n",
      " 22  PAY_AMT5         30000 non-null  object\n",
      " 23  PAY_AMT6         30000 non-null  object\n",
      " 24  DEF_PAY_NE_MNTH  30000 non-null  int64 \n",
      "dtypes: int64(1), object(24)\n",
      "memory usage: 6.0+ MB\n"
     ]
    }
   ],
   "source": [
    "df.DEF_PAY_NE_MNTH.unique()\n",
    "df[\"DEF_PAY_NE_MNTH\"] = df[\"DEF_PAY_NE_MNTH\"].astype('int')\n",
    "\n",
    "df.info(verbose=True)"
   ]
  },
  {
   "cell_type": "code",
   "execution_count": 62,
   "metadata": {},
   "outputs": [],
   "source": [
    "# Here we turn into numpy arrays\n",
    "#Skip ID for standardization of data\n",
    "X_bin = df.iloc[:,1:24].values\n",
    "y_bin = df.iloc[:,24:].values.ravel()"
   ]
  },
  {
   "cell_type": "code",
   "execution_count": 63,
   "metadata": {},
   "outputs": [
    {
     "data": {
      "text/plain": [
       "array([1, 1, 0, ..., 1, 1, 1])"
      ]
     },
     "execution_count": 63,
     "metadata": {},
     "output_type": "execute_result"
    }
   ],
   "source": [
    "y_bin"
   ]
  },
  {
   "cell_type": "code",
   "execution_count": 64,
   "metadata": {},
   "outputs": [],
   "source": [
    "from sklearn.model_selection import train_test_split\n",
    " \n",
    "X_train, X_test, y_train, y_test = train_test_split(X_bin, y_bin, random_state=42)"
   ]
  },
  {
   "cell_type": "code",
   "execution_count": 65,
   "metadata": {},
   "outputs": [
    {
     "data": {
      "text/plain": [
       "(22500,)"
      ]
     },
     "execution_count": 65,
     "metadata": {},
     "output_type": "execute_result"
    }
   ],
   "source": [
    "y_train.shape"
   ]
  },
  {
   "cell_type": "code",
   "execution_count": 66,
   "metadata": {},
   "outputs": [
    {
     "name": "stdout",
     "output_type": "stream",
     "text": [
      "Training set score1: 0.812\n",
      "Test set score1: 0.809\n"
     ]
    }
   ],
   "source": [
    "from sklearn.linear_model import LogisticRegression\n",
    "from sklearn.svm import LinearSVC\n",
    "from sklearn.pipeline import make_pipeline\n",
    "from sklearn.preprocessing import StandardScaler\n",
    "\n",
    "pipe1 = make_pipeline(StandardScaler(), LogisticRegression())\n",
    "pipe1.fit(X_train, y_train)  # apply scaling on training data\n",
    "#Pipeline(steps=[('standardscaler', StandardScaler()),\n",
    "#                ('logisticregression', LogisticRegression())])\n",
    "\n",
    "print(\"Training set score1: {:.3f}\".format(pipe1.score(X_train, y_train)))\n",
    "print(\"Test set score1: {:.3f}\".format(pipe1.score(X_test, y_test)))"
   ]
  },
  {
   "cell_type": "code",
   "execution_count": 67,
   "metadata": {},
   "outputs": [
    {
     "name": "stdout",
     "output_type": "stream",
     "text": [
      "Training set score100: 0.812\n",
      "Test set score100: 0.809\n"
     ]
    }
   ],
   "source": [
    "pipe100 = make_pipeline(StandardScaler(), LogisticRegression(C=100))\n",
    "pipe100.fit(X_train, y_train)  # apply scaling on training data\n",
    "#Pipeline(steps=[('standardscaler', StandardScaler()),\n",
    "#                ('logisticregression', LogisticRegression())])\n",
    "\n",
    "print(\"Training set score100: {:.3f}\".format(pipe100.score(X_train, y_train)))\n",
    "print(\"Test set score100: {:.3f}\".format(pipe100.score(X_test, y_test)))"
   ]
  },
  {
   "cell_type": "code",
   "execution_count": 68,
   "metadata": {},
   "outputs": [
    {
     "name": "stdout",
     "output_type": "stream",
     "text": [
      "Training set score001: 0.809\n",
      "Test set score001: 0.809\n"
     ]
    }
   ],
   "source": [
    "pipe001 = make_pipeline(StandardScaler(), LogisticRegression(C=0.01))\n",
    "pipe001.fit(X_train, y_train)  # apply scaling on training data\n",
    "#Pipeline(steps=[('standardscaler', StandardScaler()),\n",
    "#                ('logisticregression', LogisticRegression())])\n",
    "\n",
    "print(\"Training set score001: {:.3f}\".format(pipe001.score(X_train, y_train)))\n",
    "print(\"Test set score001: {:.3f}\".format(pipe001.score(X_test, y_test)))"
   ]
  },
  {
   "cell_type": "code",
   "execution_count": 69,
   "metadata": {},
   "outputs": [
    {
     "name": "stdout",
     "output_type": "stream",
     "text": [
      "Training set score0001: 0.803\n",
      "Test set score0001: 0.801\n"
     ]
    }
   ],
   "source": [
    "pipe0001 = make_pipeline(StandardScaler(), LogisticRegression(C=0.001))\n",
    "pipe0001.fit(X_train, y_train)  # apply scaling on training data\n",
    "#Pipeline(steps=[('standardscaler', StandardScaler()),\n",
    "#                ('logisticregression', LogisticRegression())])\n",
    "\n",
    "print(\"Training set score0001: {:.3f}\".format(pipe0001.score(X_train, y_train)))\n",
    "print(\"Test set score0001: {:.3f}\".format(pipe0001.score(X_test, y_test)))"
   ]
  },
  {
   "cell_type": "code",
   "execution_count": 70,
   "metadata": {},
   "outputs": [
    {
     "name": "stdout",
     "output_type": "stream",
     "text": [
      "Training set score005: 0.811\n",
      "Test set score005: 0.809\n"
     ]
    }
   ],
   "source": [
    "pipe005 = make_pipeline(StandardScaler(), LogisticRegression(C=0.05))\n",
    "pipe005.fit(X_train, y_train)  # apply scaling on training data\n",
    "#Pipeline(steps=[('standardscaler', StandardScaler()),\n",
    "#                ('logisticregression', LogisticRegression())])\n",
    "\n",
    "print(\"Training set score005: {:.3f}\".format(pipe005.score(X_train, y_train)))\n",
    "print(\"Test set score005: {:.3f}\".format(pipe005.score(X_test, y_test)))"
   ]
  },
  {
   "cell_type": "code",
   "execution_count": 71,
   "metadata": {},
   "outputs": [
    {
     "name": "stdout",
     "output_type": "stream",
     "text": [
      "Accuracy on training set: 1.000\n",
      "Accuracy on test set: 0.732\n"
     ]
    }
   ],
   "source": [
    "from sklearn.tree import DecisionTreeClassifier\n",
    "\n",
    "#X_train, X_test, y_train, y_test = train_test_split(X_bin,y_bin, random_state=42)\n",
    "tree = DecisionTreeClassifier(random_state=0)\n",
    "tree.fit(X_train, y_train)\n",
    "print(\"Accuracy on training set: {:.3f}\".format(tree.score(X_train, y_train)))\n",
    "print(\"Accuracy on test set: {:.3f}\".format(tree.score(X_test, y_test)))\n"
   ]
  },
  {
   "cell_type": "code",
   "execution_count": 72,
   "metadata": {},
   "outputs": [
    {
     "name": "stdout",
     "output_type": "stream",
     "text": [
      "Accuracy on training set: 0.824\n",
      "Accuracy on test set: 0.821\n"
     ]
    }
   ],
   "source": [
    "tree = DecisionTreeClassifier(max_depth=4, random_state=0)\n",
    "tree.fit(X_train, y_train)\n",
    "print(\"Accuracy on training set: {:.3f}\".format(tree.score(X_train, y_train)))\n",
    "print(\"Accuracy on test set: {:.3f}\".format(tree.score(X_test, y_test)))"
   ]
  },
  {
   "cell_type": "code",
   "execution_count": 73,
   "metadata": {},
   "outputs": [
    {
     "name": "stdout",
     "output_type": "stream",
     "text": [
      "Accuracy on training set: 0.820\n",
      "Accuracy on test set: 0.820\n"
     ]
    }
   ],
   "source": [
    "tree = DecisionTreeClassifier(max_depth=2, random_state=0)\n",
    "tree.fit(X_train, y_train)\n",
    "print(\"Accuracy on training set: {:.3f}\".format(tree.score(X_train, y_train)))\n",
    "print(\"Accuracy on test set: {:.3f}\".format(tree.score(X_test, y_test)))"
   ]
  },
  {
   "cell_type": "code",
   "execution_count": 74,
   "metadata": {},
   "outputs": [
    {
     "name": "stdout",
     "output_type": "stream",
     "text": [
      "Accuracy on training set: 0.847\n",
      "Accuracy on test set: 0.812\n"
     ]
    }
   ],
   "source": [
    "tree = DecisionTreeClassifier(max_depth=10, random_state=0)\n",
    "tree.fit(X_train, y_train)\n",
    "print(\"Accuracy on training set: {:.3f}\".format(tree.score(X_train, y_train)))\n",
    "print(\"Accuracy on test set: {:.3f}\".format(tree.score(X_test, y_test)))"
   ]
  },
  {
   "cell_type": "code",
   "execution_count": 75,
   "metadata": {},
   "outputs": [
    {
     "name": "stdout",
     "output_type": "stream",
     "text": [
      "Accuracy on training set: 0.975\n",
      "Accuracy on test set: 0.749\n"
     ]
    }
   ],
   "source": [
    "tree = DecisionTreeClassifier(max_depth=25, random_state=0)\n",
    "tree.fit(X_train, y_train)\n",
    "print(\"Accuracy on training set: {:.3f}\".format(tree.score(X_train, y_train)))\n",
    "print(\"Accuracy on test set: {:.3f}\".format(tree.score(X_test, y_test)))"
   ]
  },
  {
   "cell_type": "code",
   "execution_count": 76,
   "metadata": {},
   "outputs": [],
   "source": [
    "# logistic regression dataset\n",
    "\n",
    "training_accuracy = []\n",
    "test_accuracy = []\n",
    "\n",
    "# record training set accuracy\n",
    "training_accuracy.append(\"Training set score0001\")\n",
    "training_accuracy.append(\"Training set score001\")\n",
    "training_accuracy.append(\"Training set score005\")\n",
    "training_accuracy.append(\"Training set score1\")\n",
    "training_accuracy.append(\"Training set score100\")\n",
    "# record generalization accuracy\n",
    "test_accuracy.append(\"Test set score0001\")\n",
    "test_accuracy.append(\"Test set score001\")\n",
    "test_accuracy.append(\"Test set score005\")\n",
    "test_accuracy.append(\"Test set score1\")\n",
    "test_accuracy.append(\"Test set score100\")"
   ]
  },
  {
   "cell_type": "code",
   "execution_count": 77,
   "metadata": {},
   "outputs": [
    {
     "data": {
      "text/plain": [
       "<matplotlib.legend.Legend at 0x7fcfc4f046d0>"
      ]
     },
     "execution_count": 77,
     "metadata": {},
     "output_type": "execute_result"
    },
    {
     "data": {
      "image/png": "[encoded data removed]",
      "text/plain": [
       "<Figure size 720x360 with 1 Axes>"
      ]
     },
     "metadata": {
      "needs_background": "light"
     },
     "output_type": "display_data"
    }
   ],
   "source": [
    "C = [0.001, 0.05, 0.01, 1, 100]\n",
    "plt.figure(figsize=(10,5))\n",
    "plt.plot(C, training_accuracy, label=\"training accuracy\")\n",
    "plt.plot(C, test_accuracy, label=\"test accuracy\")\n",
    "plt.ylabel(\"Accuracy ($R^2$)\")\n",
    "plt.xlabel(\"concordance\")\n",
    "plt.gca().invert_xaxis()\n",
    "plt.legend()"
   ]
  }
 ],
 "metadata": {
  "kernelspec": {
   "display_name": "Python 3",
   "language": "python",
   "name": "python3"
  },
  "language_info": {
   "codemirror_mode": {
    "name": "ipython",
    "version": 3
   },
   "file_extension": ".py",
   "mimetype": "text/x-python",
   "name": "python",
   "nbconvert_exporter": "python",
   "pygments_lexer": "ipython3",
   "version": "3.7.6"
  }
 },
 "nbformat": 4,
 "nbformat_minor": 4
}
