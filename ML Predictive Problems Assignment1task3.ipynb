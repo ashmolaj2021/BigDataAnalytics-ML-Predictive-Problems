{
 "cells": [
  {
   "cell_type": "code",
   "execution_count": 1,
   "metadata": {},
   "outputs": [],
   "source": [
    "%matplotlib inline\n",
    "import pandas as pd\n",
    "import matplotlib\n",
    "import matplotlib.pyplot as plt\n",
    "import numpy as np"
   ]
  },
  {
   "cell_type": "code",
   "execution_count": 2,
   "metadata": {},
   "outputs": [],
   "source": [
    "df = pd.read_csv('https://archive.ics.uci.edu/ml/machine-learning-databases/00373/drug_consumption.data',header=None)\n",
    "col_names = [\"ID\", \"Age\", \"Gender\", \"Education\", \"Country\", \"Ethnicity\", \"Nscore\", \"Escore\", \"Oscore\", \"Ascore\", \"Cscore\", \"Impulsive\", \"SS\", \"Alcohol\", \"Amphet\", \"Amyl\", \"Benzos\", \"Caff\", \"Cannabis\", \"Choc\", \"Coke\", \"Crack\", \"Ecstasy\", \"Heroin\", \"Ketamine\", \"Legalh\", \"LSD\", \"Meth\", \"Mushrooms\", \"Nicotine\", \"Semer\", \"VSA\"]\n",
    "df.columns = col_names"
   ]
  },
  {
   "cell_type": "code",
   "execution_count": 3,
   "metadata": {},
   "outputs": [
    {
     "data": {
      "text/html": [
       "<div>\n",
       "<style scoped>\n",
       "    .dataframe tbody tr th:only-of-type {\n",
       "        vertical-align: middle;\n",
       "    }\n",
       "\n",
       "    .dataframe tbody tr th {\n",
       "        vertical-align: top;\n",
       "    }\n",
       "\n",
       "    .dataframe thead th {\n",
       "        text-align: right;\n",
       "    }\n",
       "</style>\n",
       "<table border=\"1\" class=\"dataframe\">\n",
       "  <thead>\n",
       "    <tr style=\"text-align: right;\">\n",
       "      <th></th>\n",
       "      <th>ID</th>\n",
       "      <th>Age</th>\n",
       "      <th>Gender</th>\n",
       "      <th>Education</th>\n",
       "      <th>Country</th>\n",
       "      <th>Ethnicity</th>\n",
       "      <th>Nscore</th>\n",
       "      <th>Escore</th>\n",
       "      <th>Oscore</th>\n",
       "      <th>Ascore</th>\n",
       "      <th>...</th>\n",
       "      <th>Ecstasy</th>\n",
       "      <th>Heroin</th>\n",
       "      <th>Ketamine</th>\n",
       "      <th>Legalh</th>\n",
       "      <th>LSD</th>\n",
       "      <th>Meth</th>\n",
       "      <th>Mushrooms</th>\n",
       "      <th>Nicotine</th>\n",
       "      <th>Semer</th>\n",
       "      <th>VSA</th>\n",
       "    </tr>\n",
       "  </thead>\n",
       "  <tbody>\n",
       "    <tr>\n",
       "      <th>0</th>\n",
       "      <td>1</td>\n",
       "      <td>0.49788</td>\n",
       "      <td>0.48246</td>\n",
       "      <td>-0.05921</td>\n",
       "      <td>0.96082</td>\n",
       "      <td>0.12600</td>\n",
       "      <td>0.31287</td>\n",
       "      <td>-0.57545</td>\n",
       "      <td>-0.58331</td>\n",
       "      <td>-0.91699</td>\n",
       "      <td>...</td>\n",
       "      <td>CL0</td>\n",
       "      <td>CL0</td>\n",
       "      <td>CL0</td>\n",
       "      <td>CL0</td>\n",
       "      <td>CL0</td>\n",
       "      <td>CL0</td>\n",
       "      <td>CL0</td>\n",
       "      <td>CL2</td>\n",
       "      <td>CL0</td>\n",
       "      <td>CL0</td>\n",
       "    </tr>\n",
       "    <tr>\n",
       "      <th>1</th>\n",
       "      <td>2</td>\n",
       "      <td>-0.07854</td>\n",
       "      <td>-0.48246</td>\n",
       "      <td>1.98437</td>\n",
       "      <td>0.96082</td>\n",
       "      <td>-0.31685</td>\n",
       "      <td>-0.67825</td>\n",
       "      <td>1.93886</td>\n",
       "      <td>1.43533</td>\n",
       "      <td>0.76096</td>\n",
       "      <td>...</td>\n",
       "      <td>CL4</td>\n",
       "      <td>CL0</td>\n",
       "      <td>CL2</td>\n",
       "      <td>CL0</td>\n",
       "      <td>CL2</td>\n",
       "      <td>CL3</td>\n",
       "      <td>CL0</td>\n",
       "      <td>CL4</td>\n",
       "      <td>CL0</td>\n",
       "      <td>CL0</td>\n",
       "    </tr>\n",
       "    <tr>\n",
       "      <th>2</th>\n",
       "      <td>3</td>\n",
       "      <td>0.49788</td>\n",
       "      <td>-0.48246</td>\n",
       "      <td>-0.05921</td>\n",
       "      <td>0.96082</td>\n",
       "      <td>-0.31685</td>\n",
       "      <td>-0.46725</td>\n",
       "      <td>0.80523</td>\n",
       "      <td>-0.84732</td>\n",
       "      <td>-1.62090</td>\n",
       "      <td>...</td>\n",
       "      <td>CL0</td>\n",
       "      <td>CL0</td>\n",
       "      <td>CL0</td>\n",
       "      <td>CL0</td>\n",
       "      <td>CL0</td>\n",
       "      <td>CL0</td>\n",
       "      <td>CL1</td>\n",
       "      <td>CL0</td>\n",
       "      <td>CL0</td>\n",
       "      <td>CL0</td>\n",
       "    </tr>\n",
       "    <tr>\n",
       "      <th>3</th>\n",
       "      <td>4</td>\n",
       "      <td>-0.95197</td>\n",
       "      <td>0.48246</td>\n",
       "      <td>1.16365</td>\n",
       "      <td>0.96082</td>\n",
       "      <td>-0.31685</td>\n",
       "      <td>-0.14882</td>\n",
       "      <td>-0.80615</td>\n",
       "      <td>-0.01928</td>\n",
       "      <td>0.59042</td>\n",
       "      <td>...</td>\n",
       "      <td>CL0</td>\n",
       "      <td>CL0</td>\n",
       "      <td>CL2</td>\n",
       "      <td>CL0</td>\n",
       "      <td>CL0</td>\n",
       "      <td>CL0</td>\n",
       "      <td>CL0</td>\n",
       "      <td>CL2</td>\n",
       "      <td>CL0</td>\n",
       "      <td>CL0</td>\n",
       "    </tr>\n",
       "    <tr>\n",
       "      <th>4</th>\n",
       "      <td>5</td>\n",
       "      <td>0.49788</td>\n",
       "      <td>0.48246</td>\n",
       "      <td>1.98437</td>\n",
       "      <td>0.96082</td>\n",
       "      <td>-0.31685</td>\n",
       "      <td>0.73545</td>\n",
       "      <td>-1.63340</td>\n",
       "      <td>-0.45174</td>\n",
       "      <td>-0.30172</td>\n",
       "      <td>...</td>\n",
       "      <td>CL1</td>\n",
       "      <td>CL0</td>\n",
       "      <td>CL0</td>\n",
       "      <td>CL1</td>\n",
       "      <td>CL0</td>\n",
       "      <td>CL0</td>\n",
       "      <td>CL2</td>\n",
       "      <td>CL2</td>\n",
       "      <td>CL0</td>\n",
       "      <td>CL0</td>\n",
       "    </tr>\n",
       "    <tr>\n",
       "      <th>...</th>\n",
       "      <td>...</td>\n",
       "      <td>...</td>\n",
       "      <td>...</td>\n",
       "      <td>...</td>\n",
       "      <td>...</td>\n",
       "      <td>...</td>\n",
       "      <td>...</td>\n",
       "      <td>...</td>\n",
       "      <td>...</td>\n",
       "      <td>...</td>\n",
       "      <td>...</td>\n",
       "      <td>...</td>\n",
       "      <td>...</td>\n",
       "      <td>...</td>\n",
       "      <td>...</td>\n",
       "      <td>...</td>\n",
       "      <td>...</td>\n",
       "      <td>...</td>\n",
       "      <td>...</td>\n",
       "      <td>...</td>\n",
       "      <td>...</td>\n",
       "    </tr>\n",
       "    <tr>\n",
       "      <th>1880</th>\n",
       "      <td>1884</td>\n",
       "      <td>-0.95197</td>\n",
       "      <td>0.48246</td>\n",
       "      <td>-0.61113</td>\n",
       "      <td>-0.57009</td>\n",
       "      <td>-0.31685</td>\n",
       "      <td>-1.19430</td>\n",
       "      <td>1.74091</td>\n",
       "      <td>1.88511</td>\n",
       "      <td>0.76096</td>\n",
       "      <td>...</td>\n",
       "      <td>CL0</td>\n",
       "      <td>CL0</td>\n",
       "      <td>CL0</td>\n",
       "      <td>CL3</td>\n",
       "      <td>CL3</td>\n",
       "      <td>CL0</td>\n",
       "      <td>CL0</td>\n",
       "      <td>CL0</td>\n",
       "      <td>CL0</td>\n",
       "      <td>CL5</td>\n",
       "    </tr>\n",
       "    <tr>\n",
       "      <th>1881</th>\n",
       "      <td>1885</td>\n",
       "      <td>-0.95197</td>\n",
       "      <td>-0.48246</td>\n",
       "      <td>-0.61113</td>\n",
       "      <td>-0.57009</td>\n",
       "      <td>-0.31685</td>\n",
       "      <td>-0.24649</td>\n",
       "      <td>1.74091</td>\n",
       "      <td>0.58331</td>\n",
       "      <td>0.76096</td>\n",
       "      <td>...</td>\n",
       "      <td>CL2</td>\n",
       "      <td>CL0</td>\n",
       "      <td>CL0</td>\n",
       "      <td>CL3</td>\n",
       "      <td>CL5</td>\n",
       "      <td>CL4</td>\n",
       "      <td>CL4</td>\n",
       "      <td>CL5</td>\n",
       "      <td>CL0</td>\n",
       "      <td>CL0</td>\n",
       "    </tr>\n",
       "    <tr>\n",
       "      <th>1882</th>\n",
       "      <td>1886</td>\n",
       "      <td>-0.07854</td>\n",
       "      <td>0.48246</td>\n",
       "      <td>0.45468</td>\n",
       "      <td>-0.57009</td>\n",
       "      <td>-0.31685</td>\n",
       "      <td>1.13281</td>\n",
       "      <td>-1.37639</td>\n",
       "      <td>-1.27553</td>\n",
       "      <td>-1.77200</td>\n",
       "      <td>...</td>\n",
       "      <td>CL4</td>\n",
       "      <td>CL0</td>\n",
       "      <td>CL2</td>\n",
       "      <td>CL0</td>\n",
       "      <td>CL2</td>\n",
       "      <td>CL0</td>\n",
       "      <td>CL2</td>\n",
       "      <td>CL6</td>\n",
       "      <td>CL0</td>\n",
       "      <td>CL0</td>\n",
       "    </tr>\n",
       "    <tr>\n",
       "      <th>1883</th>\n",
       "      <td>1887</td>\n",
       "      <td>-0.95197</td>\n",
       "      <td>0.48246</td>\n",
       "      <td>-0.61113</td>\n",
       "      <td>-0.57009</td>\n",
       "      <td>-0.31685</td>\n",
       "      <td>0.91093</td>\n",
       "      <td>-1.92173</td>\n",
       "      <td>0.29338</td>\n",
       "      <td>-1.62090</td>\n",
       "      <td>...</td>\n",
       "      <td>CL3</td>\n",
       "      <td>CL0</td>\n",
       "      <td>CL0</td>\n",
       "      <td>CL3</td>\n",
       "      <td>CL3</td>\n",
       "      <td>CL0</td>\n",
       "      <td>CL3</td>\n",
       "      <td>CL4</td>\n",
       "      <td>CL0</td>\n",
       "      <td>CL0</td>\n",
       "    </tr>\n",
       "    <tr>\n",
       "      <th>1884</th>\n",
       "      <td>1888</td>\n",
       "      <td>-0.95197</td>\n",
       "      <td>-0.48246</td>\n",
       "      <td>-0.61113</td>\n",
       "      <td>0.21128</td>\n",
       "      <td>-0.31685</td>\n",
       "      <td>-0.46725</td>\n",
       "      <td>2.12700</td>\n",
       "      <td>1.65653</td>\n",
       "      <td>1.11406</td>\n",
       "      <td>...</td>\n",
       "      <td>CL3</td>\n",
       "      <td>CL0</td>\n",
       "      <td>CL0</td>\n",
       "      <td>CL3</td>\n",
       "      <td>CL3</td>\n",
       "      <td>CL0</td>\n",
       "      <td>CL3</td>\n",
       "      <td>CL6</td>\n",
       "      <td>CL0</td>\n",
       "      <td>CL2</td>\n",
       "    </tr>\n",
       "  </tbody>\n",
       "</table>\n",
       "<p>1885 rows × 32 columns</p>\n",
       "</div>"
      ],
      "text/plain": [
       "        ID      Age   Gender  Education  Country  Ethnicity   Nscore   Escore  \\\n",
       "0        1  0.49788  0.48246   -0.05921  0.96082    0.12600  0.31287 -0.57545   \n",
       "1        2 -0.07854 -0.48246    1.98437  0.96082   -0.31685 -0.67825  1.93886   \n",
       "2        3  0.49788 -0.48246   -0.05921  0.96082   -0.31685 -0.46725  0.80523   \n",
       "3        4 -0.95197  0.48246    1.16365  0.96082   -0.31685 -0.14882 -0.80615   \n",
       "4        5  0.49788  0.48246    1.98437  0.96082   -0.31685  0.73545 -1.63340   \n",
       "...    ...      ...      ...        ...      ...        ...      ...      ...   \n",
       "1880  1884 -0.95197  0.48246   -0.61113 -0.57009   -0.31685 -1.19430  1.74091   \n",
       "1881  1885 -0.95197 -0.48246   -0.61113 -0.57009   -0.31685 -0.24649  1.74091   \n",
       "1882  1886 -0.07854  0.48246    0.45468 -0.57009   -0.31685  1.13281 -1.37639   \n",
       "1883  1887 -0.95197  0.48246   -0.61113 -0.57009   -0.31685  0.91093 -1.92173   \n",
       "1884  1888 -0.95197 -0.48246   -0.61113  0.21128   -0.31685 -0.46725  2.12700   \n",
       "\n",
       "       Oscore   Ascore  ...  Ecstasy  Heroin  Ketamine Legalh  LSD Meth  \\\n",
       "0    -0.58331 -0.91699  ...      CL0     CL0       CL0    CL0  CL0  CL0   \n",
       "1     1.43533  0.76096  ...      CL4     CL0       CL2    CL0  CL2  CL3   \n",
       "2    -0.84732 -1.62090  ...      CL0     CL0       CL0    CL0  CL0  CL0   \n",
       "3    -0.01928  0.59042  ...      CL0     CL0       CL2    CL0  CL0  CL0   \n",
       "4    -0.45174 -0.30172  ...      CL1     CL0       CL0    CL1  CL0  CL0   \n",
       "...       ...      ...  ...      ...     ...       ...    ...  ...  ...   \n",
       "1880  1.88511  0.76096  ...      CL0     CL0       CL0    CL3  CL3  CL0   \n",
       "1881  0.58331  0.76096  ...      CL2     CL0       CL0    CL3  CL5  CL4   \n",
       "1882 -1.27553 -1.77200  ...      CL4     CL0       CL2    CL0  CL2  CL0   \n",
       "1883  0.29338 -1.62090  ...      CL3     CL0       CL0    CL3  CL3  CL0   \n",
       "1884  1.65653  1.11406  ...      CL3     CL0       CL0    CL3  CL3  CL0   \n",
       "\n",
       "     Mushrooms Nicotine Semer  VSA  \n",
       "0          CL0      CL2   CL0  CL0  \n",
       "1          CL0      CL4   CL0  CL0  \n",
       "2          CL1      CL0   CL0  CL0  \n",
       "3          CL0      CL2   CL0  CL0  \n",
       "4          CL2      CL2   CL0  CL0  \n",
       "...        ...      ...   ...  ...  \n",
       "1880       CL0      CL0   CL0  CL5  \n",
       "1881       CL4      CL5   CL0  CL0  \n",
       "1882       CL2      CL6   CL0  CL0  \n",
       "1883       CL3      CL4   CL0  CL0  \n",
       "1884       CL3      CL6   CL0  CL2  \n",
       "\n",
       "[1885 rows x 32 columns]"
      ]
     },
     "execution_count": 3,
     "metadata": {},
     "output_type": "execute_result"
    }
   ],
   "source": [
    "df"
   ]
  },
  {
   "cell_type": "code",
   "execution_count": 4,
   "metadata": {},
   "outputs": [
    {
     "data": {
      "text/plain": [
       "ID             int64\n",
       "Age          float64\n",
       "Gender       float64\n",
       "Education    float64\n",
       "Country      float64\n",
       "Ethnicity    float64\n",
       "Nscore       float64\n",
       "Escore       float64\n",
       "Oscore       float64\n",
       "Ascore       float64\n",
       "Cscore       float64\n",
       "Impulsive    float64\n",
       "SS           float64\n",
       "Alcohol       object\n",
       "Amphet        object\n",
       "Amyl          object\n",
       "Benzos        object\n",
       "Caff          object\n",
       "Cannabis      object\n",
       "Choc          object\n",
       "Coke          object\n",
       "Crack         object\n",
       "Ecstasy       object\n",
       "Heroin        object\n",
       "Ketamine      object\n",
       "Legalh        object\n",
       "LSD           object\n",
       "Meth          object\n",
       "Mushrooms     object\n",
       "Nicotine      object\n",
       "Semer         object\n",
       "VSA           object\n",
       "dtype: object"
      ]
     },
     "execution_count": 4,
     "metadata": {},
     "output_type": "execute_result"
    }
   ],
   "source": [
    "df.dtypes"
   ]
  },
  {
   "cell_type": "code",
   "execution_count": 5,
   "metadata": {},
   "outputs": [],
   "source": [
    "df_copy = df.copy()"
   ]
  },
  {
   "cell_type": "code",
   "execution_count": 6,
   "metadata": {},
   "outputs": [],
   "source": [
    "df.replace({\"CL0\":0,\n",
    "            \"CL1\":1,\n",
    "            \"CL2\":2,\n",
    "            \"CL3\":3,\n",
    "            \"CL4\":4,\n",
    "            \"CL5\":5,\n",
    "            \"CL6\":6},inplace=True)"
   ]
  },
  {
   "cell_type": "code",
   "execution_count": 7,
   "metadata": {},
   "outputs": [
    {
     "name": "stdout",
     "output_type": "stream",
     "text": [
      "<class 'pandas.core.frame.DataFrame'>\n",
      "RangeIndex: 1885 entries, 0 to 1884\n",
      "Data columns (total 32 columns):\n",
      " #   Column     Non-Null Count  Dtype  \n",
      "---  ------     --------------  -----  \n",
      " 0   ID         1885 non-null   int64  \n",
      " 1   Age        1885 non-null   float64\n",
      " 2   Gender     1885 non-null   float64\n",
      " 3   Education  1885 non-null   float64\n",
      " 4   Country    1885 non-null   float64\n",
      " 5   Ethnicity  1885 non-null   float64\n",
      " 6   Nscore     1885 non-null   float64\n",
      " 7   Escore     1885 non-null   float64\n",
      " 8   Oscore     1885 non-null   float64\n",
      " 9   Ascore     1885 non-null   float64\n",
      " 10  Cscore     1885 non-null   float64\n",
      " 11  Impulsive  1885 non-null   float64\n",
      " 12  SS         1885 non-null   float64\n",
      " 13  Alcohol    1885 non-null   int64  \n",
      " 14  Amphet     1885 non-null   int64  \n",
      " 15  Amyl       1885 non-null   int64  \n",
      " 16  Benzos     1885 non-null   int64  \n",
      " 17  Caff       1885 non-null   int64  \n",
      " 18  Cannabis   1885 non-null   int64  \n",
      " 19  Choc       1885 non-null   int64  \n",
      " 20  Coke       1885 non-null   int64  \n",
      " 21  Crack      1885 non-null   int64  \n",
      " 22  Ecstasy    1885 non-null   int64  \n",
      " 23  Heroin     1885 non-null   int64  \n",
      " 24  Ketamine   1885 non-null   int64  \n",
      " 25  Legalh     1885 non-null   int64  \n",
      " 26  LSD        1885 non-null   int64  \n",
      " 27  Meth       1885 non-null   int64  \n",
      " 28  Mushrooms  1885 non-null   int64  \n",
      " 29  Nicotine   1885 non-null   int64  \n",
      " 30  Semer      1885 non-null   int64  \n",
      " 31  VSA        1885 non-null   int64  \n",
      "dtypes: float64(12), int64(20)\n",
      "memory usage: 471.4 KB\n"
     ]
    }
   ],
   "source": [
    "df.info()"
   ]
  },
  {
   "cell_type": "code",
   "execution_count": 8,
   "metadata": {},
   "outputs": [],
   "source": [
    "# Here we turn into numpy arrays\n",
    "X_mul = df.iloc[:,:12].values\n",
    "#take Alcohol\n",
    "y_mul = df.iloc[:,13].values\n"
   ]
  },
  {
   "cell_type": "code",
   "execution_count": 9,
   "metadata": {},
   "outputs": [
    {
     "data": {
      "text/plain": [
       "array([5, 5, 6, ..., 4, 5, 4])"
      ]
     },
     "execution_count": 9,
     "metadata": {},
     "output_type": "execute_result"
    }
   ],
   "source": [
    "y_mul"
   ]
  },
  {
   "cell_type": "code",
   "execution_count": 10,
   "metadata": {},
   "outputs": [
    {
     "name": "stdout",
     "output_type": "stream",
     "text": [
      "Accuracy on training set: 1.000\n",
      "Accuracy on test set: 0.369\n"
     ]
    }
   ],
   "source": [
    "from sklearn.model_selection import train_test_split\n",
    "from sklearn.ensemble import RandomForestClassifier\n",
    "\n",
    "#RandomForest for Alcohol\n",
    "X_train, X_test, y_train, y_test = train_test_split(X_mul,y_mul, random_state=42)\n",
    "forest = RandomForestClassifier(n_estimators=100, random_state=0)\n",
    "forest.fit(X_train, y_train)\n",
    "print(\"Accuracy on training set: {:.3f}\".format(forest.score(X_train, y_train)))\n",
    "print(\"Accuracy on test set: {:.3f}\".format(forest.score(X_test, y_test)))\n"
   ]
  },
  {
   "cell_type": "code",
   "execution_count": 11,
   "metadata": {},
   "outputs": [
    {
     "name": "stdout",
     "output_type": "stream",
     "text": [
      "Accuracy on training set: 1.000\n",
      "Accuracy on test set: 0.500\n"
     ]
    }
   ],
   "source": [
    "#RandomForest for Amphet\n",
    "y_mul1 = df.iloc[:,14].values\n",
    "\n",
    "X_train, X_test, y_train, y_test = train_test_split(X_mul,y_mul1, random_state=42)\n",
    "forest = RandomForestClassifier(n_estimators=100, random_state=0)\n",
    "forest.fit(X_train, y_train)\n",
    "print(\"Accuracy on training set: {:.3f}\".format(forest.score(X_train, y_train)))\n",
    "print(\"Accuracy on test set: {:.3f}\".format(forest.score(X_test, y_test)))\n"
   ]
  },
  {
   "cell_type": "code",
   "execution_count": 12,
   "metadata": {},
   "outputs": [
    {
     "name": "stdout",
     "output_type": "stream",
     "text": [
      "Accuracy on training set: 0.754\n",
      "Accuracy on test set: 0.358\n"
     ]
    }
   ],
   "source": [
    "from sklearn.ensemble import GradientBoostingClassifier\n",
    "\n",
    "#Gradient for Alcohol\n",
    "X_train, X_test, y_train, y_test = train_test_split(X_mul,y_mul, random_state=42)\n",
    "\n",
    "gbrt = GradientBoostingClassifier(random_state=0)\n",
    "gbrt.fit(X_train, y_train)\n",
    "print(\"Accuracy on training set: {:.3f}\".format(gbrt.score(X_train, y_train)))\n",
    "print(\"Accuracy on test set: {:.3f}\".format(gbrt.score(X_test, y_test)))"
   ]
  },
  {
   "cell_type": "code",
   "execution_count": 13,
   "metadata": {},
   "outputs": [
    {
     "name": "stdout",
     "output_type": "stream",
     "text": [
      "Accuracy on training set: 0.820\n",
      "Accuracy on test set: 0.496\n"
     ]
    }
   ],
   "source": [
    "#Gradient for Amphet\n",
    "y_mul1 = df.iloc[:,14].values\n",
    "\n",
    "X_train, X_test, y_train, y_test = train_test_split(X_mul,y_mul1, random_state=42)\n",
    "\n",
    "gbrt = GradientBoostingClassifier(random_state=0)\n",
    "gbrt.fit(X_train, y_train)\n",
    "print(\"Accuracy on training set: {:.3f}\".format(gbrt.score(X_train, y_train)))\n",
    "print(\"Accuracy on test set: {:.3f}\".format(gbrt.score(X_test, y_test)))"
   ]
  },
  {
   "cell_type": "code",
   "execution_count": 38,
   "metadata": {},
   "outputs": [],
   "source": [
    "#GradientBoosting for Alcohol with 5 different max depths"
   ]
  },
  {
   "cell_type": "code",
   "execution_count": 15,
   "metadata": {},
   "outputs": [
    {
     "name": "stdout",
     "output_type": "stream",
     "text": [
      "Accuracy on training set1: 0.431\n",
      "Accuracy on test set1: 0.394\n"
     ]
    }
   ],
   "source": [
    "X_train, X_test, y_train, y_test = train_test_split(X_mul,y_mul, random_state=42)\n",
    "\n",
    "gbrt1 = GradientBoostingClassifier(random_state=0, max_depth=1)\n",
    "gbrt1.fit(X_train, y_train)\n",
    "print(\"Accuracy on training set1: {:.3f}\".format(gbrt1.score(X_train, y_train)))\n",
    "print(\"Accuracy on test set1: {:.3f}\".format(gbrt1.score(X_test, y_test)))"
   ]
  },
  {
   "cell_type": "code",
   "execution_count": 16,
   "metadata": {},
   "outputs": [
    {
     "name": "stdout",
     "output_type": "stream",
     "text": [
      "Accuracy on training set2: 0.571\n",
      "Accuracy on test set2: 0.396\n"
     ]
    }
   ],
   "source": [
    "gbrt2 = GradientBoostingClassifier(random_state=0, max_depth=2)\n",
    "gbrt2.fit(X_train, y_train)\n",
    "print(\"Accuracy on training set2: {:.3f}\".format(gbrt2.score(X_train, y_train)))\n",
    "print(\"Accuracy on test set2: {:.3f}\".format(gbrt2.score(X_test, y_test)))"
   ]
  },
  {
   "cell_type": "code",
   "execution_count": 17,
   "metadata": {},
   "outputs": [
    {
     "name": "stdout",
     "output_type": "stream",
     "text": [
      "Accuracy on training set3: 0.754\n",
      "Accuracy on test set3: 0.358\n"
     ]
    }
   ],
   "source": [
    "gbrt3 = GradientBoostingClassifier(random_state=0, max_depth=3)\n",
    "gbrt3.fit(X_train, y_train)\n",
    "print(\"Accuracy on training set3: {:.3f}\".format(gbrt3.score(X_train, y_train)))\n",
    "print(\"Accuracy on test set3: {:.3f}\".format(gbrt3.score(X_test, y_test)))"
   ]
  },
  {
   "cell_type": "code",
   "execution_count": 18,
   "metadata": {},
   "outputs": [
    {
     "name": "stdout",
     "output_type": "stream",
     "text": [
      "Accuracy on training set4: 0.903\n",
      "Accuracy on test set4: 0.360\n"
     ]
    }
   ],
   "source": [
    "gbrt4 = GradientBoostingClassifier(random_state=0, max_depth=4)\n",
    "gbrt4.fit(X_train, y_train)\n",
    "print(\"Accuracy on training set4: {:.3f}\".format(gbrt4.score(X_train, y_train)))\n",
    "print(\"Accuracy on test set4: {:.3f}\".format(gbrt4.score(X_test, y_test)))"
   ]
  },
  {
   "cell_type": "code",
   "execution_count": 19,
   "metadata": {},
   "outputs": [
    {
     "name": "stdout",
     "output_type": "stream",
     "text": [
      "Accuracy on training set5: 0.985\n",
      "Accuracy on test set5: 0.356\n"
     ]
    }
   ],
   "source": [
    "gbrt5 = GradientBoostingClassifier(random_state=0, max_depth=5)\n",
    "gbrt5.fit(X_train, y_train)\n",
    "print(\"Accuracy on training set5: {:.3f}\".format(gbrt5.score(X_train, y_train)))\n",
    "print(\"Accuracy on test set5: {:.3f}\".format(gbrt5.score(X_test, y_test)))"
   ]
  },
  {
   "cell_type": "code",
   "execution_count": 20,
   "metadata": {},
   "outputs": [],
   "source": [
    "# GradientBoosting dataset\n",
    "\n",
    "training_accuracy = []\n",
    "test_accuracy = []\n",
    "\n",
    "# record training set accuracy\n",
    "training_accuracy.append(\"Accuracy on training set1\")\n",
    "training_accuracy.append(\"Accuracy on training set2\")\n",
    "training_accuracy.append(\"Accuracy on training set3\")\n",
    "training_accuracy.append(\"Accuracy on training set4\")\n",
    "training_accuracy.append(\"Accuracy on training set5\")\n",
    "# record generalization accuracy\n",
    "test_accuracy.append(\"Accuracy on test set1\")\n",
    "test_accuracy.append(\"Accuracy on test set2\")\n",
    "test_accuracy.append(\"Accuracy on test set3\")\n",
    "test_accuracy.append(\"Accuracy on test set4\")\n",
    "test_accuracy.append(\"Accuracy on test set5\")"
   ]
  },
  {
   "cell_type": "code",
   "execution_count": 21,
   "metadata": {},
   "outputs": [
    {
     "data": {
      "text/plain": [
       "<matplotlib.legend.Legend at 0x7fba4c61f990>"
      ]
     },
     "execution_count": 21,
     "metadata": {},
     "output_type": "execute_result"
    },
    {
     "data": {
      "image/png": "[encoded data removed]",
      "text/plain": [
       "<Figure size 720x360 with 1 Axes>"
      ]
     },
     "metadata": {
      "needs_background": "light"
     },
     "output_type": "display_data"
    }
   ],
   "source": [
    "maxdepth = [1, 2, 3, 4, 5]\n",
    "plt.figure(figsize=(10,5))\n",
    "plt.plot(maxdepth, training_accuracy, label=\"training accuracy\")\n",
    "plt.plot(maxdepth, test_accuracy, label=\"test accuracy\")\n",
    "plt.ylabel(\"Accuracy ($R^2$)\")\n",
    "plt.xlabel(\"maximum depth\")\n",
    "plt.gca().invert_xaxis()\n",
    "plt.legend()"
   ]
  },
  {
   "cell_type": "code",
   "execution_count": 57,
   "metadata": {},
   "outputs": [
    {
     "name": "stdout",
     "output_type": "stream",
     "text": [
      "Accuracy on training seta Amphet : 0.998\n",
      "Accuracy on test seta Amphet : 0.492\n",
      "Accuracy on training seta Amyl : 0.999\n",
      "Accuracy on test seta Amyl : 0.674\n",
      "Accuracy on training seta Benzos : 0.994\n",
      "Accuracy on test seta Benzos : 0.525\n",
      "Accuracy on training seta Caff : 0.993\n",
      "Accuracy on test seta Caff : 0.712\n",
      "Accuracy on training seta Cannabis : 0.999\n",
      "Accuracy on test seta Cannabis : 0.371\n",
      "Accuracy on training seta Choc : 0.975\n",
      "Accuracy on test seta Choc : 0.413\n",
      "Accuracy on training seta Coke : 0.996\n",
      "Accuracy on test seta Coke : 0.572\n",
      "Accuracy on training seta Crack : 1.000\n",
      "Accuracy on test seta Crack : 0.856\n",
      "Accuracy on training seta Ecstasy : 1.000\n",
      "Accuracy on test seta Ecstasy : 0.517\n",
      "Accuracy on training seta Heroin : 1.000\n",
      "Accuracy on test seta Heroin : 0.828\n",
      "Accuracy on training seta Ketamine : 1.000\n",
      "Accuracy on test seta Ketamine : 0.773\n",
      "Accuracy on training seta Legalh : 0.999\n",
      "Accuracy on test seta Legalh : 0.587\n",
      "Accuracy on training seta LSD : 0.999\n",
      "Accuracy on test seta LSD : 0.595\n",
      "Accuracy on training seta Meth : 1.000\n",
      "Accuracy on test seta Meth : 0.716\n",
      "Accuracy on training seta Mushrooms : 0.995\n",
      "Accuracy on test seta Mushrooms : 0.525\n",
      "Accuracy on training seta Nicotine : 0.994\n",
      "Accuracy on test seta Nicotine : 0.362\n",
      "Accuracy on training seta Semer : 1.000\n",
      "Accuracy on test seta Semer : 0.987\n",
      "Accuracy on training seta VSA : 0.999\n",
      "Accuracy on test seta VSA : 0.733\n"
     ]
    }
   ],
   "source": [
    "# Here we turn into numpy arrays\n",
    "X_mul = df.iloc[:,:12].values\n",
    "\n",
    "#Gradient boosting with max-dept 5 for all remaining features\n",
    "#def iloc_df(df,col):\n",
    "#    for i in range(14,31):\n",
    "for column in df[['Amphet', 'Amyl','Benzos', 'Caff', 'Cannabis', 'Choc', 'Coke', 'Crack', 'Ecstasy', 'Heroin', 'Ketamine', 'Legalh', 'LSD', 'Meth', 'Mushrooms', 'Nicotine', 'Semer', 'VSA']]:\n",
    "    i = df.columns.get_loc(column)\n",
    "    y_mula = df.iloc[:,i].values\n",
    "    X_train, X_test, y_train, y_test = train_test_split(X_mul,y_mula, random_state=42)\n",
    "    gbrta = GradientBoostingClassifier(random_state=0, max_depth=5)\n",
    "    gbrta.fit(X_train, y_train)\n",
    "    print(\"Accuracy on training seta\",(column),\": {:.3f}\".format(gbrta.score(X_train, y_train)))\n",
    "    print(\"Accuracy on test seta\",(column),\": {:.3f}\".format(gbrta.score(X_test, y_test)))"
   ]
  },
  {
   "cell_type": "code",
   "execution_count": null,
   "metadata": {},
   "outputs": [],
   "source": [
    "#Observations of previous model:\n",
    "#For almost all the features the training accuracy is above 0.99\n",
    "#However the test accuracy/test score varies feature by feature for the same model"
   ]
  },
  {
   "cell_type": "code",
   "execution_count": 22,
   "metadata": {},
   "outputs": [],
   "source": [
    "df[\"Alcohol_ULD\"] = df.Alcohol"
   ]
  },
  {
   "cell_type": "code",
   "execution_count": 23,
   "metadata": {},
   "outputs": [],
   "source": [
    "df['Alcohol_ULD'] = df['Alcohol_ULD'].replace([0, 1, 3, 4, 5, 6], 1)"
   ]
  },
  {
   "cell_type": "code",
   "execution_count": 24,
   "metadata": {},
   "outputs": [
    {
     "name": "stdout",
     "output_type": "stream",
     "text": [
      "[1 2]\n"
     ]
    }
   ],
   "source": [
    "uniqueValues = df['Alcohol_ULD'].unique()\n",
    "print(uniqueValues)"
   ]
  },
  {
   "cell_type": "code",
   "execution_count": 25,
   "metadata": {},
   "outputs": [],
   "source": [
    "df['Alcohol_ULD'] = df['Alcohol_ULD'].replace([2], 0)"
   ]
  },
  {
   "cell_type": "code",
   "execution_count": 26,
   "metadata": {},
   "outputs": [
    {
     "name": "stdout",
     "output_type": "stream",
     "text": [
      "[1 0]\n"
     ]
    }
   ],
   "source": [
    "uniqueValues = df['Alcohol_ULD'].unique()\n",
    "print(uniqueValues)"
   ]
  },
  {
   "cell_type": "code",
   "execution_count": 27,
   "metadata": {},
   "outputs": [],
   "source": [
    "# Here we turn into numpy arrays\n",
    "X_bin = df.iloc[:,:12].values\n",
    "y_bin = df.iloc[:,32].values.ravel()"
   ]
  },
  {
   "cell_type": "code",
   "execution_count": 28,
   "metadata": {},
   "outputs": [
    {
     "data": {
      "text/plain": [
       "array([1, 1, 1, ..., 1, 1, 1])"
      ]
     },
     "execution_count": 28,
     "metadata": {},
     "output_type": "execute_result"
    }
   ],
   "source": [
    "y_bin"
   ]
  },
  {
   "cell_type": "code",
   "execution_count": 29,
   "metadata": {},
   "outputs": [],
   "source": [
    "from sklearn.model_selection import train_test_split\n",
    " \n",
    "X_train, X_test, y_train, y_test = train_test_split(X_bin, y_bin, random_state=42)"
   ]
  },
  {
   "cell_type": "code",
   "execution_count": 30,
   "metadata": {},
   "outputs": [
    {
     "name": "stdout",
     "output_type": "stream",
     "text": [
      "Training set score1: 0.966\n",
      "Test set score1: 0.958\n"
     ]
    }
   ],
   "source": [
    "from sklearn.linear_model import LogisticRegression\n",
    "from sklearn.svm import LinearSVC\n",
    "from sklearn.pipeline import make_pipeline\n",
    "from sklearn.preprocessing import StandardScaler\n",
    "\n",
    "pipe1 = make_pipeline(StandardScaler(), LogisticRegression())\n",
    "pipe1.fit(X_train, y_train)  # apply scaling on training data\n",
    "#Pipeline(steps=[('standardscaler', StandardScaler()),\n",
    "#                ('logisticregression', LogisticRegression())])\n",
    "\n",
    "print(\"Training set score1: {:.3f}\".format(pipe1.score(X_train, y_train)))\n",
    "print(\"Test set score1: {:.3f}\".format(pipe1.score(X_test, y_test)))"
   ]
  },
  {
   "cell_type": "code",
   "execution_count": 31,
   "metadata": {},
   "outputs": [],
   "source": [
    "df[\"Alcohol_ULD1\"] = df.Alcohol\n",
    "df['Alcohol_ULD1'] = df['Alcohol_ULD1'].replace([0, 1, 4, 5, 6], 1)\n"
   ]
  },
  {
   "cell_type": "code",
   "execution_count": 32,
   "metadata": {},
   "outputs": [],
   "source": [
    "df['Alcohol_ULD1'] = df['Alcohol_ULD1'].replace([2, 3], 0)"
   ]
  },
  {
   "cell_type": "code",
   "execution_count": 33,
   "metadata": {},
   "outputs": [
    {
     "name": "stdout",
     "output_type": "stream",
     "text": [
      "Training set score2: 0.860\n",
      "Test set score2: 0.854\n"
     ]
    }
   ],
   "source": [
    "# Here we turn into numpy arrays\n",
    "X_bin = df.iloc[:,:12].values\n",
    "y_bin = df.iloc[:,33].values.ravel()\n",
    "from sklearn.model_selection import train_test_split\n",
    " \n",
    "X_train, X_test, y_train, y_test = train_test_split(X_bin, y_bin, random_state=42)\n",
    "from sklearn.linear_model import LogisticRegression\n",
    "from sklearn.svm import LinearSVC\n",
    "from sklearn.pipeline import make_pipeline\n",
    "from sklearn.preprocessing import StandardScaler\n",
    "\n",
    "pipe1 = make_pipeline(StandardScaler(), LogisticRegression())\n",
    "pipe1.fit(X_train, y_train)  # apply scaling on training data\n",
    "#Pipeline(steps=[('standardscaler', StandardScaler()),\n",
    "#                ('logisticregression', LogisticRegression())])\n",
    "\n",
    "print(\"Training set score2: {:.3f}\".format(pipe1.score(X_train, y_train)))\n",
    "print(\"Test set score2: {:.3f}\".format(pipe1.score(X_test, y_test)))"
   ]
  },
  {
   "cell_type": "code",
   "execution_count": 34,
   "metadata": {},
   "outputs": [],
   "source": [
    "df[\"Alcohol_ULD2\"] = df.Alcohol\n",
    "df['Alcohol_ULD2'] = df['Alcohol_ULD2'].replace([0, 1, 5, 6], 1)"
   ]
  },
  {
   "cell_type": "code",
   "execution_count": 35,
   "metadata": {},
   "outputs": [],
   "source": [
    "df['Alcohol_ULD2'] = df['Alcohol_ULD2'].replace([2, 3, 4], 0)"
   ]
  },
  {
   "cell_type": "code",
   "execution_count": 36,
   "metadata": {},
   "outputs": [
    {
     "name": "stdout",
     "output_type": "stream",
     "text": [
      "Training set score3: 0.726\n",
      "Test set score3: 0.693\n"
     ]
    }
   ],
   "source": [
    "# Here we turn into numpy arrays\n",
    "X_bin = df.iloc[:,:12].values\n",
    "y_bin = df.iloc[:,34].values.ravel()\n",
    "from sklearn.model_selection import train_test_split\n",
    " \n",
    "X_train, X_test, y_train, y_test = train_test_split(X_bin, y_bin, random_state=42)\n",
    "from sklearn.linear_model import LogisticRegression\n",
    "from sklearn.svm import LinearSVC\n",
    "from sklearn.pipeline import make_pipeline\n",
    "from sklearn.preprocessing import StandardScaler\n",
    "\n",
    "pipe1 = make_pipeline(StandardScaler(), LogisticRegression())\n",
    "pipe1.fit(X_train, y_train)  # apply scaling on training data\n",
    "#Pipeline(steps=[('standardscaler', StandardScaler()),\n",
    "#                ('logisticregression', LogisticRegression())])\n",
    "\n",
    "print(\"Training set score3: {:.3f}\".format(pipe1.score(X_train, y_train)))\n",
    "print(\"Test set score3: {:.3f}\".format(pipe1.score(X_test, y_test)))"
   ]
  },
  {
   "cell_type": "code",
   "execution_count": 58,
   "metadata": {},
   "outputs": [],
   "source": [
    "#Running binary feature for Amphet for 3 differnt combinations\n"
   ]
  },
  {
   "cell_type": "code",
   "execution_count": 60,
   "metadata": {},
   "outputs": [],
   "source": [
    "#3 binary classes for Amphet\n",
    "df[\"Amphet_ULD\"] = df.Amphet\n",
    "df['Amphet_ULD'] = df['Amphet_ULD'].replace([0, 1, 3, 4, 5, 6], 1)\n",
    "\n",
    "df[\"Amphet_ULD1\"] = df.Amphet\n",
    "df['Amphet_ULD1'] = df['Amphet_ULD1'].replace([0, 1, 4, 5, 6], 1)\n",
    "\n",
    "df[\"Amphet_ULD2\"] = df.Amphet\n",
    "df['Amphet_ULD2'] = df['Amphet_ULD2'].replace([0, 1, 5, 6], 1)"
   ]
  },
  {
   "cell_type": "code",
   "execution_count": 62,
   "metadata": {},
   "outputs": [],
   "source": [
    "df['Amphet_ULD'] = df['Amphet_ULD'].replace([2], 0)\n",
    "df['Amphet_ULD1'] = df['Amphet_ULD1'].replace([2, 3], 0)\n",
    "df['Amphet_ULD2'] = df['Amphet_ULD2'].replace([2, 3, 4], 0)"
   ]
  },
  {
   "cell_type": "code",
   "execution_count": 63,
   "metadata": {},
   "outputs": [
    {
     "name": "stdout",
     "output_type": "stream",
     "text": [
      "<class 'pandas.core.frame.DataFrame'>\n",
      "RangeIndex: 1885 entries, 0 to 1884\n",
      "Data columns (total 38 columns):\n",
      " #   Column        Non-Null Count  Dtype  \n",
      "---  ------        --------------  -----  \n",
      " 0   ID            1885 non-null   int64  \n",
      " 1   Age           1885 non-null   float64\n",
      " 2   Gender        1885 non-null   float64\n",
      " 3   Education     1885 non-null   float64\n",
      " 4   Country       1885 non-null   float64\n",
      " 5   Ethnicity     1885 non-null   float64\n",
      " 6   Nscore        1885 non-null   float64\n",
      " 7   Escore        1885 non-null   float64\n",
      " 8   Oscore        1885 non-null   float64\n",
      " 9   Ascore        1885 non-null   float64\n",
      " 10  Cscore        1885 non-null   float64\n",
      " 11  Impulsive     1885 non-null   float64\n",
      " 12  SS            1885 non-null   float64\n",
      " 13  Alcohol       1885 non-null   int64  \n",
      " 14  Amphet        1885 non-null   int64  \n",
      " 15  Amyl          1885 non-null   int64  \n",
      " 16  Benzos        1885 non-null   int64  \n",
      " 17  Caff          1885 non-null   int64  \n",
      " 18  Cannabis      1885 non-null   int64  \n",
      " 19  Choc          1885 non-null   int64  \n",
      " 20  Coke          1885 non-null   int64  \n",
      " 21  Crack         1885 non-null   int64  \n",
      " 22  Ecstasy       1885 non-null   int64  \n",
      " 23  Heroin        1885 non-null   int64  \n",
      " 24  Ketamine      1885 non-null   int64  \n",
      " 25  Legalh        1885 non-null   int64  \n",
      " 26  LSD           1885 non-null   int64  \n",
      " 27  Meth          1885 non-null   int64  \n",
      " 28  Mushrooms     1885 non-null   int64  \n",
      " 29  Nicotine      1885 non-null   int64  \n",
      " 30  Semer         1885 non-null   int64  \n",
      " 31  VSA           1885 non-null   int64  \n",
      " 32  Alcohol_ULD   1885 non-null   int64  \n",
      " 33  Alcohol_ULD1  1885 non-null   int64  \n",
      " 34  Alcohol_ULD2  1885 non-null   int64  \n",
      " 35  Amphet_ULD    1885 non-null   int64  \n",
      " 36  Amphet_ULD1   1885 non-null   int64  \n",
      " 37  Amphet_ULD2   1885 non-null   int64  \n",
      "dtypes: float64(12), int64(26)\n",
      "memory usage: 559.7 KB\n"
     ]
    }
   ],
   "source": [
    "df.info()"
   ]
  },
  {
   "cell_type": "code",
   "execution_count": 65,
   "metadata": {},
   "outputs": [
    {
     "name": "stdout",
     "output_type": "stream",
     "text": [
      "Training set score4: 0.869\n",
      "Test set score4: 0.877\n"
     ]
    }
   ],
   "source": [
    "# Here we turn into numpy arrays\n",
    "X_bin = df.iloc[:,:12].values\n",
    "y_bin = df.iloc[:,35].values.ravel()\n",
    "from sklearn.model_selection import train_test_split\n",
    " \n",
    "X_train, X_test, y_train, y_test = train_test_split(X_bin, y_bin, random_state=42)\n",
    "from sklearn.linear_model import LogisticRegression\n",
    "from sklearn.svm import LinearSVC\n",
    "from sklearn.pipeline import make_pipeline\n",
    "from sklearn.preprocessing import StandardScaler\n",
    "\n",
    "pipe1 = make_pipeline(StandardScaler(), LogisticRegression())\n",
    "pipe1.fit(X_train, y_train)  # apply scaling on training data\n",
    "#Pipeline(steps=[('standardscaler', StandardScaler()),\n",
    "#                ('logisticregression', LogisticRegression())])\n",
    "\n",
    "print(\"Training set score4: {:.3f}\".format(pipe1.score(X_train, y_train)))\n",
    "print(\"Test set score4: {:.3f}\".format(pipe1.score(X_test, y_test)))"
   ]
  },
  {
   "cell_type": "code",
   "execution_count": 67,
   "metadata": {},
   "outputs": [
    {
     "name": "stdout",
     "output_type": "stream",
     "text": [
      "Training set score5: 0.758\n",
      "Test set score5: 0.761\n"
     ]
    }
   ],
   "source": [
    "# Here we turn into numpy arrays\n",
    "X_bin = df.iloc[:,:12].values\n",
    "y_bin = df.iloc[:,36].values.ravel()\n",
    "from sklearn.model_selection import train_test_split\n",
    " \n",
    "X_train, X_test, y_train, y_test = train_test_split(X_bin, y_bin, random_state=42)\n",
    "from sklearn.linear_model import LogisticRegression\n",
    "from sklearn.svm import LinearSVC\n",
    "from sklearn.pipeline import make_pipeline\n",
    "from sklearn.preprocessing import StandardScaler\n",
    "\n",
    "pipe1 = make_pipeline(StandardScaler(), LogisticRegression())\n",
    "pipe1.fit(X_train, y_train)  # apply scaling on training data\n",
    "#Pipeline(steps=[('standardscaler', StandardScaler()),\n",
    "#                ('logisticregression', LogisticRegression())])\n",
    "\n",
    "print(\"Training set score5: {:.3f}\".format(pipe1.score(X_train, y_train)))\n",
    "print(\"Test set score5: {:.3f}\".format(pipe1.score(X_test, y_test)))"
   ]
  },
  {
   "cell_type": "code",
   "execution_count": 69,
   "metadata": {},
   "outputs": [
    {
     "name": "stdout",
     "output_type": "stream",
     "text": [
      "Training set score6: 0.733\n",
      "Test set score6: 0.725\n"
     ]
    }
   ],
   "source": [
    "# Here we turn into numpy arrays\n",
    "X_bin = df.iloc[:,:12].values\n",
    "y_bin = df.iloc[:,37].values.ravel()\n",
    "from sklearn.model_selection import train_test_split\n",
    " \n",
    "X_train, X_test, y_train, y_test = train_test_split(X_bin, y_bin, random_state=42)\n",
    "from sklearn.linear_model import LogisticRegression\n",
    "from sklearn.svm import LinearSVC\n",
    "from sklearn.pipeline import make_pipeline\n",
    "from sklearn.preprocessing import StandardScaler\n",
    "\n",
    "pipe1 = make_pipeline(StandardScaler(), LogisticRegression())\n",
    "pipe1.fit(X_train, y_train)  # apply scaling on training data\n",
    "#Pipeline(steps=[('standardscaler', StandardScaler()),\n",
    "#                ('logisticregression', LogisticRegression())])\n",
    "\n",
    "print(\"Training set score6: {:.3f}\".format(pipe1.score(X_train, y_train)))\n",
    "print(\"Test set score6: {:.3f}\".format(pipe1.score(X_test, y_test)))"
   ]
  },
  {
   "cell_type": "code",
   "execution_count": 71,
   "metadata": {},
   "outputs": [],
   "source": [
    "#3 binary classes for Amyl\n",
    "df[\"Amyl_ULD\"] = df.Amyl\n",
    "df['Amyl_ULD'] = df['Amyl_ULD'].replace([0, 1, 3, 4, 5, 6], 1)\n",
    "\n",
    "df[\"Amyl_ULD1\"] = df.Amyl\n",
    "df['Amyl_ULD1'] = df['Amyl_ULD1'].replace([0, 1, 4, 5, 6], 1)\n",
    "\n",
    "df[\"Amyl_ULD2\"] = df.Amyl\n",
    "df['Amyl_ULD2'] = df['Amyl_ULD2'].replace([0, 1, 5, 6], 1)"
   ]
  },
  {
   "cell_type": "code",
   "execution_count": 73,
   "metadata": {},
   "outputs": [
    {
     "name": "stdout",
     "output_type": "stream",
     "text": [
      "<class 'pandas.core.frame.DataFrame'>\n",
      "RangeIndex: 1885 entries, 0 to 1884\n",
      "Data columns (total 41 columns):\n",
      " #   Column        Non-Null Count  Dtype  \n",
      "---  ------        --------------  -----  \n",
      " 0   ID            1885 non-null   int64  \n",
      " 1   Age           1885 non-null   float64\n",
      " 2   Gender        1885 non-null   float64\n",
      " 3   Education     1885 non-null   float64\n",
      " 4   Country       1885 non-null   float64\n",
      " 5   Ethnicity     1885 non-null   float64\n",
      " 6   Nscore        1885 non-null   float64\n",
      " 7   Escore        1885 non-null   float64\n",
      " 8   Oscore        1885 non-null   float64\n",
      " 9   Ascore        1885 non-null   float64\n",
      " 10  Cscore        1885 non-null   float64\n",
      " 11  Impulsive     1885 non-null   float64\n",
      " 12  SS            1885 non-null   float64\n",
      " 13  Alcohol       1885 non-null   int64  \n",
      " 14  Amphet        1885 non-null   int64  \n",
      " 15  Amyl          1885 non-null   int64  \n",
      " 16  Benzos        1885 non-null   int64  \n",
      " 17  Caff          1885 non-null   int64  \n",
      " 18  Cannabis      1885 non-null   int64  \n",
      " 19  Choc          1885 non-null   int64  \n",
      " 20  Coke          1885 non-null   int64  \n",
      " 21  Crack         1885 non-null   int64  \n",
      " 22  Ecstasy       1885 non-null   int64  \n",
      " 23  Heroin        1885 non-null   int64  \n",
      " 24  Ketamine      1885 non-null   int64  \n",
      " 25  Legalh        1885 non-null   int64  \n",
      " 26  LSD           1885 non-null   int64  \n",
      " 27  Meth          1885 non-null   int64  \n",
      " 28  Mushrooms     1885 non-null   int64  \n",
      " 29  Nicotine      1885 non-null   int64  \n",
      " 30  Semer         1885 non-null   int64  \n",
      " 31  VSA           1885 non-null   int64  \n",
      " 32  Alcohol_ULD   1885 non-null   int64  \n",
      " 33  Alcohol_ULD1  1885 non-null   int64  \n",
      " 34  Alcohol_ULD2  1885 non-null   int64  \n",
      " 35  Amphet_ULD    1885 non-null   int64  \n",
      " 36  Amphet_ULD1   1885 non-null   int64  \n",
      " 37  Amphet_ULD2   1885 non-null   int64  \n",
      " 38  Amyl_ULD      1885 non-null   int64  \n",
      " 39  Amyl_ULD1     1885 non-null   int64  \n",
      " 40  Amyl_ULD2     1885 non-null   int64  \n",
      "dtypes: float64(12), int64(29)\n",
      "memory usage: 603.9 KB\n"
     ]
    }
   ],
   "source": [
    "df['Amyl_ULD'] = df['Amyl_ULD'].replace([2], 0)\n",
    "df['Amyl_ULD1'] = df['Amyl_ULD1'].replace([2, 3], 0)\n",
    "df['Amyl_ULD2'] = df['Amyl_ULD2'].replace([2, 3, 4], 0)\n",
    "\n",
    "df.info()"
   ]
  },
  {
   "cell_type": "code",
   "execution_count": 75,
   "metadata": {},
   "outputs": [
    {
     "name": "stdout",
     "output_type": "stream",
     "text": [
      "Training set score7: 0.873\n",
      "Test set score7: 0.883\n"
     ]
    }
   ],
   "source": [
    "# Here we turn into numpy arrays\n",
    "X_bin = df.iloc[:,:12].values\n",
    "y_bin = df.iloc[:,38].values.ravel()\n",
    "from sklearn.model_selection import train_test_split\n",
    " \n",
    "X_train, X_test, y_train, y_test = train_test_split(X_bin, y_bin, random_state=42)\n",
    "from sklearn.linear_model import LogisticRegression\n",
    "from sklearn.svm import LinearSVC\n",
    "from sklearn.pipeline import make_pipeline\n",
    "from sklearn.preprocessing import StandardScaler\n",
    "\n",
    "pipe1 = make_pipeline(StandardScaler(), LogisticRegression())\n",
    "pipe1.fit(X_train, y_train)  # apply scaling on training data\n",
    "#Pipeline(steps=[('standardscaler', StandardScaler()),\n",
    "#                ('logisticregression', LogisticRegression())])\n",
    "\n",
    "print(\"Training set score7: {:.3f}\".format(pipe1.score(X_train, y_train)))\n",
    "print(\"Test set score7: {:.3f}\".format(pipe1.score(X_test, y_test)))"
   ]
  },
  {
   "cell_type": "code",
   "execution_count": 77,
   "metadata": {},
   "outputs": [
    {
     "name": "stdout",
     "output_type": "stream",
     "text": [
      "Training set score8: 0.824\n",
      "Test set score8: 0.826\n"
     ]
    }
   ],
   "source": [
    "# Here we turn into numpy arrays\n",
    "X_bin = df.iloc[:,:12].values\n",
    "y_bin = df.iloc[:,39].values.ravel()\n",
    "from sklearn.model_selection import train_test_split\n",
    " \n",
    "X_train, X_test, y_train, y_test = train_test_split(X_bin, y_bin, random_state=42)\n",
    "from sklearn.linear_model import LogisticRegression\n",
    "from sklearn.svm import LinearSVC\n",
    "from sklearn.pipeline import make_pipeline\n",
    "from sklearn.preprocessing import StandardScaler\n",
    "\n",
    "pipe1 = make_pipeline(StandardScaler(), LogisticRegression())\n",
    "pipe1.fit(X_train, y_train)  # apply scaling on training data\n",
    "#Pipeline(steps=[('standardscaler', StandardScaler()),\n",
    "#                ('logisticregression', LogisticRegression())])\n",
    "\n",
    "print(\"Training set score8: {:.3f}\".format(pipe1.score(X_train, y_train)))\n",
    "print(\"Test set score8: {:.3f}\".format(pipe1.score(X_test, y_test)))"
   ]
  },
  {
   "cell_type": "code",
   "execution_count": 79,
   "metadata": {},
   "outputs": [
    {
     "name": "stdout",
     "output_type": "stream",
     "text": [
      "Training set score9: 0.814\n",
      "Test set score9: 0.818\n"
     ]
    }
   ],
   "source": [
    "# Here we turn into numpy arrays\n",
    "X_bin = df.iloc[:,:12].values\n",
    "y_bin = df.iloc[:,40].values.ravel()\n",
    "from sklearn.model_selection import train_test_split\n",
    " \n",
    "X_train, X_test, y_train, y_test = train_test_split(X_bin, y_bin, random_state=42)\n",
    "from sklearn.linear_model import LogisticRegression\n",
    "from sklearn.svm import LinearSVC\n",
    "from sklearn.pipeline import make_pipeline\n",
    "from sklearn.preprocessing import StandardScaler\n",
    "\n",
    "pipe1 = make_pipeline(StandardScaler(), LogisticRegression())\n",
    "pipe1.fit(X_train, y_train)  # apply scaling on training data\n",
    "#Pipeline(steps=[('standardscaler', StandardScaler()),\n",
    "#                ('logisticregression', LogisticRegression())])\n",
    "\n",
    "print(\"Training set score9: {:.3f}\".format(pipe1.score(X_train, y_train)))\n",
    "print(\"Test set score9: {:.3f}\".format(pipe1.score(X_test, y_test)))"
   ]
  },
  {
   "cell_type": "code",
   "execution_count": null,
   "metadata": {},
   "outputs": [],
   "source": [
    "#For All three features chosen for binary classes: Alcohol, Amphet & Amyl\n",
    "#As per above binary class scores with choosing 3 different combinations\n",
    "#The accuracy is closer for below choice:\n",
    "#one class (class 0) the variable \"Used in Last Decade\" and the remaining variables for the other class (class 1).\n",
    "#And it further reduces for choice2 and choice3 respectively."
   ]
  }
 ],
 "metadata": {
  "kernelspec": {
   "display_name": "Python 3",
   "language": "python",
   "name": "python3"
  },
  "language_info": {
   "codemirror_mode": {
    "name": "ipython",
    "version": 3
   },
   "file_extension": ".py",
   "mimetype": "text/x-python",
   "name": "python",
   "nbconvert_exporter": "python",
   "pygments_lexer": "ipython3",
   "version": "3.7.6"
  }
 },
 "nbformat": 4,
 "nbformat_minor": 4
}
