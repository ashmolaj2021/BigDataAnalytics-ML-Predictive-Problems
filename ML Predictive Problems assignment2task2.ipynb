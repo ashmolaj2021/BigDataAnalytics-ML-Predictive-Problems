{
 "cells": [
  {
   "cell_type": "code",
   "execution_count": 2,
   "metadata": {},
   "outputs": [
    {
     "name": "stdout",
     "output_type": "stream",
     "text": [
      "Collecting mglearn\n",
      "  Downloading mglearn-0.1.9.tar.gz (540 kB)\n",
      "Requirement already satisfied: numpy in c:\\ashwini\\big data specialisation\\anaconda\\lib\\site-packages (from mglearn) (1.20.1)\n",
      "Requirement already satisfied: matplotlib in c:\\ashwini\\big data specialisation\\anaconda\\lib\\site-packages (from mglearn) (3.3.4)\n",
      "Requirement already satisfied: scikit-learn in c:\\ashwini\\big data specialisation\\anaconda\\lib\\site-packages (from mglearn) (0.24.1)\n",
      "Requirement already satisfied: pandas in c:\\ashwini\\big data specialisation\\anaconda\\lib\\site-packages (from mglearn) (1.3.3)\n",
      "Requirement already satisfied: pillow in c:\\ashwini\\big data specialisation\\anaconda\\lib\\site-packages (from mglearn) (8.2.0)\n",
      "Requirement already satisfied: cycler in c:\\ashwini\\big data specialisation\\anaconda\\lib\\site-packages (from mglearn) (0.10.0)\n",
      "Requirement already satisfied: imageio in c:\\ashwini\\big data specialisation\\anaconda\\lib\\site-packages (from mglearn) (2.9.0)\n",
      "Requirement already satisfied: joblib in c:\\ashwini\\big data specialisation\\anaconda\\lib\\site-packages (from mglearn) (1.0.1)\n",
      "Requirement already satisfied: six in c:\\ashwini\\big data specialisation\\anaconda\\lib\\site-packages (from cycler->mglearn) (1.15.0)\n",
      "Requirement already satisfied: kiwisolver>=1.0.1 in c:\\ashwini\\big data specialisation\\anaconda\\lib\\site-packages (from matplotlib->mglearn) (1.3.1)\n",
      "Requirement already satisfied: python-dateutil>=2.1 in c:\\ashwini\\big data specialisation\\anaconda\\lib\\site-packages (from matplotlib->mglearn) (2.8.1)\n",
      "Requirement already satisfied: pyparsing!=2.0.4,!=2.1.2,!=2.1.6,>=2.0.3 in c:\\ashwini\\big data specialisation\\anaconda\\lib\\site-packages (from matplotlib->mglearn) (2.4.7)\n",
      "Requirement already satisfied: pytz>=2017.3 in c:\\ashwini\\big data specialisation\\anaconda\\lib\\site-packages (from pandas->mglearn) (2021.1)\n",
      "Requirement already satisfied: threadpoolctl>=2.0.0 in c:\\ashwini\\big data specialisation\\anaconda\\lib\\site-packages (from scikit-learn->mglearn) (2.1.0)\n",
      "Requirement already satisfied: scipy>=0.19.1 in c:\\ashwini\\big data specialisation\\anaconda\\lib\\site-packages (from scikit-learn->mglearn) (1.6.2)\n",
      "Building wheels for collected packages: mglearn\n",
      "  Building wheel for mglearn (setup.py): started\n",
      "  Building wheel for mglearn (setup.py): finished with status 'done'\n",
      "  Created wheel for mglearn: filename=mglearn-0.1.9-py2.py3-none-any.whl size=582638 sha256=e688846450ba5d385b936a5ca316c2193da792bf12f45594e56fe0a2f7534588\n",
      "  Stored in directory: c:\\users\\ashwi\\appdata\\local\\pip\\cache\\wheels\\87\\75\\37\\404e66d0c4bad150f101c9a0914b11a8eccc2681559936e7f7\n",
      "Successfully built mglearn\n",
      "Installing collected packages: mglearn\n",
      "Successfully installed mglearn-0.1.9\n"
     ]
    }
   ],
   "source": [
    "import pandas as pd\n",
    "import numpy as np\n",
    "! pip install mglearn --user\n",
    "import mglearn\n",
    "%matplotlib inline"
   ]
  },
  {
   "cell_type": "code",
   "execution_count": 3,
   "metadata": {},
   "outputs": [
    {
     "name": "stdout",
     "output_type": "stream",
     "text": [
      "Collecting scikit-learn==0.24\n",
      "  Downloading scikit_learn-0.24.0-cp38-cp38-win_amd64.whl (6.9 MB)\n",
      "Requirement already satisfied: numpy>=1.13.3 in c:\\ashwini\\big data specialisation\\anaconda\\lib\\site-packages (from scikit-learn==0.24) (1.20.1)\n",
      "Requirement already satisfied: threadpoolctl>=2.0.0 in c:\\ashwini\\big data specialisation\\anaconda\\lib\\site-packages (from scikit-learn==0.24) (2.1.0)\n",
      "Requirement already satisfied: joblib>=0.11 in c:\\ashwini\\big data specialisation\\anaconda\\lib\\site-packages (from scikit-learn==0.24) (1.0.1)\n",
      "Requirement already satisfied: scipy>=0.19.1 in c:\\ashwini\\big data specialisation\\anaconda\\lib\\site-packages (from scikit-learn==0.24) (1.6.2)\n",
      "Installing collected packages: scikit-learn\n",
      "Successfully installed scikit-learn-0.24.0\n"
     ]
    }
   ],
   "source": [
    "!pip install scikit-learn==0.24 --user\n",
    "\n",
    "from sklearn.datasets import fetch_20newsgroups_vectorized\n",
    "from sklearn import datasets\n",
    "from sklearn.utils import shuffle\n",
    "\n",
    "bunch_train = datasets.fetch_20newsgroups_vectorized(subset='train', as_frame = True)\n",
    "bunch_test = datasets.fetch_20newsgroups_vectorized(subset='test', as_frame = True)\n",
    "\n",
    "y_train = bunch_train.target\n",
    "y_test = bunch_test.target\n",
    "\n",
    "#data = fetch_20newsgroups_vectorized(subset='train')"
   ]
  },
  {
   "cell_type": "code",
   "execution_count": 4,
   "metadata": {},
   "outputs": [],
   "source": [
    "X_train = bunch_train.data\n",
    "X_test = bunch_test.data"
   ]
  },
  {
   "cell_type": "code",
   "execution_count": 5,
   "metadata": {},
   "outputs": [
    {
     "name": "stdout",
     "output_type": "stream",
     "text": [
      "     train   test accuracy\n",
      "10    0.21   0.19      NaN\n",
      "20   0.281   0.25      NaN\n",
      "500  0.816  0.679      NaN\n"
     ]
    }
   ],
   "source": [
    "from sklearn.linear_model import LogisticRegression\n",
    "from sklearn.decomposition import KernelPCA\n",
    "\n",
    "n_components = [10,20,500]\n",
    "col = ['train', 'test', 'accuracy']\n",
    "score = pd.DataFrame(columns = col, index = n_components)\n",
    "\n",
    "#fit kPCA model to 20newsgroups data\n",
    "for num in range(0, len(n_components)):\n",
    "    \n",
    "    #keep first n principal components of data\n",
    "    kpca = KernelPCA(n_components=n_components[num])\n",
    "    \n",
    "    kpca.fit(X_train)\n",
    "    #transform data to first n principal components\n",
    "    X_train_kpca = kpca.transform(X_train)\n",
    "    X_test_kpca = kpca.transform(X_test)\n",
    "    \n",
    "    logr = LogisticRegression(solver='sag').fit(X_train_kpca, y_train)\n",
    "    \n",
    "    score.at[n_components[num],'train'] = round(logr.score(X_train_kpca, y_train),3)\n",
    "    score.at[n_components[num],'test'] = round(logr.score(X_test_kpca, y_test),3)\n",
    "    \n",
    "print(score)\n",
    "\n"
   ]
  },
  {
   "cell_type": "code",
   "execution_count": null,
   "metadata": {},
   "outputs": [],
   "source": [
    "#Please see: the 3rd column above named accuracy has not been used and it is redundant. Hence Please ignore.\n",
    "#However, didn't execute the code again by removing accuracy column because, it is successful only once in 8-10 attempts,\n",
    "#every other time kernel was dead..."
   ]
  }
 ],
 "metadata": {
  "kernelspec": {
   "display_name": "Python 3",
   "language": "python",
   "name": "python3"
  },
  "language_info": {
   "codemirror_mode": {
    "name": "ipython",
    "version": 3
   },
   "file_extension": ".py",
   "mimetype": "text/x-python",
   "name": "python",
   "nbconvert_exporter": "python",
   "pygments_lexer": "ipython3",
   "version": "3.7.6"
  }
 },
 "nbformat": 4,
 "nbformat_minor": 4
}
